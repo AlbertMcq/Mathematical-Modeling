{
 "cells": [
  {
   "cell_type": "markdown",
   "id": "96490b22",
   "metadata": {},
   "source": [
    "## 案例一：GDP增长预测"
   ]
  },
  {
   "cell_type": "code",
   "execution_count": 45,
   "id": "41cde9ff",
   "metadata": {},
   "outputs": [],
   "source": [
    "import numpy as np\n",
    "import pandas as pd\n",
    "import matplotlib.pyplot as plt\n",
    "from sklearn.metrics import mean_squared_error, mean_absolute_percentage_error\n",
    "import warnings\n",
    "warnings.filterwarnings(\"ignore\")\n",
    "\n",
    "#设置中文字体和图标样式\n",
    "plt.rcParams['font.sans-serif'] = ['SimHei', 'DejaVu Sans']\n",
    "plt.rcParams['axes.unicode_minus'] = False\n",
    "plt.style.use('seaborn-v0_8')"
   ]
  },
  {
   "cell_type": "code",
   "execution_count": 46,
   "id": "434f7461",
   "metadata": {},
   "outputs": [
    {
     "name": "stdout",
     "output_type": "stream",
     "text": [
      "============================================================\n",
      "GM(1,1)灰色预测模型 - GDP增长预测案例\n",
      "============================================================\n"
     ]
    }
   ],
   "source": [
    "print(\"=\" * 60)\n",
    "print(\"GM(1,1)灰色预测模型 - GDP增长预测案例\")\n",
    "print(\"=\" * 60)"
   ]
  },
  {
   "cell_type": "code",
   "execution_count": null,
   "id": "566673f6",
   "metadata": {},
   "outputs": [],
   "source": [
    "class GM11:\n",
    "    '''\n",
    "    GM(1,1)灰色预测模型类\n",
    "    \n",
    "    主要功能：\n",
    "    1.级比检验\n",
    "    2.累加生成 均值生成\n",
    "    3.参数估计\n",
    "    4.模型训练\n",
    "    5.预测计算\n",
    "    6.精度检验\n",
    "    7.结果可视化\n",
    "    '''\n",
    "    \n",
    "    def __init_(self):\n",
    "        self.a = None  #发展系数\n",
    "        self.b = None  #灰色作用量\n",
    "        self.x0 = None #原始数据\n",
    "        self.n = None  #数据长度\n",
    "        self.fitted_values = None #拟合值\n",
    "        \n",
    "    def level_ratio_test(self, data):\n",
    "        \"\"\"\n",
    "        级比检验函数\n",
    "        \n",
    "        参数:\n",
    "        data: 原始数据序列\n",
    "        \n",
    "        返回:\n",
    "        valid: 是否通过检验\n",
    "        level_ratios: 级比序列\n",
    "        bounds: 检验边界\n",
    "        \"\"\"\n",
    "        n = len(data)\n",
    "        level_ratios = []\n",
    "        \n",
    "        # 计算级比\n",
    "        for i in range(1, n):\n",
    "            if data[i] != 0:  # 避免除零错误\n",
    "                ratio = data[i-1] / data[i]\n",
    "                level_ratios.append(ratio)\n",
    "        \n",
    "        # 计算检验边界\n",
    "        lower_bound = np.exp(-2/(n+1))\n",
    "        upper_bound = np.exp(2/(n+1))\n",
    "        bounds = (lower_bound, upper_bound)\n",
    "        \n",
    "        # 检验是否在合理范围内\n",
    "        valid = all(lower_bound <= ratio <= upper_bound for ratio in level_ratios)\n",
    "        \n",
    "        print(f\"级比检验结果:\")\n",
    "        print(f\"检验边界: ({lower_bound:.3f}, {upper_bound:.3f})\")\n",
    "        print(f\"级比序列: {[f'{r:.3f}' for r in level_ratios]}\")\n",
    "        print(f\"检验结果: {'通过' if valid else '不通过'}\")\n",
    "        \n",
    "        return valid, level_ratios, bounds\n",
    "    \n",
    "    def fit(self, data):\n",
    "        \"\"\"\n",
    "        训练GM(1,1)模型\n",
    "        \n",
    "        参数:\n",
    "        data: 原始数据序列\n",
    "        \"\"\"\n",
    "        self.x0 = np.array(data, dtype=float)\n",
    "        self.n = len(data)\n",
    "        \n",
    "        print(f\"\\n原始数据: {self.x0}\")\n",
    "        \n",
    "        # 级比检验\n",
    "        valid, ratios, bounds = self.level_ratio_test(data)\n",
    "        if not valid:\n",
    "            print(\"⚠️  警告：数据未通过级比检验，模型预测精度可能较低！\")\n",
    "        \n",
    "        # 一次累加生成\n",
    "        self.x1 = np.cumsum(self.x0)\n",
    "        print(f\"累加生成序列: {self.x1}\")\n",
    "        \n",
    "        # 构造均值序列Z(1)\n",
    "        z1 = []\n",
    "        for i in range(1, self.n):\n",
    "            z1.append((self.x1[i] + self.x1[i-1]) / 2)\n",
    "        z1 = np.array(z1)\n",
    "        print(f\"均值序列Z(1): {z1}\")\n",
    "        \n",
    "        # 构造数据矩阵B和向量Y\n",
    "        B = np.column_stack((-z1, np.ones(len(z1))))\n",
    "        Y = self.x0[1:]  # 从第二个数据开始\n",
    "        \n",
    "        print(f\"\\n数据矩阵B形状: {B.shape}\")\n",
    "        print(f\"\\n数据矩阵B: {B}\")\n",
    "        print(f\"观测向量Y: {Y}\")\n",
    "        \n",
    "        # 最小二乘估计参数\n",
    "        try:\n",
    "            # 使用伪逆求解，更稳定\n",
    "            params = np.linalg.lstsq(B, Y, rcond=None)[0]\n",
    "            [self.a, self.b] = params\n",
    "        except np.linalg.LinAlgError:\n",
    "            print(\"❌ 参数估计失败，请检查数据质量\")\n",
    "            return\n",
    "        \n",
    "        print(f\"\\n模型参数估计结果:\")\n",
    "        print(f\"发展系数 a = {self.a:.6f}\")\n",
    "        print(f\"灰作用量 b = {self.b:.6f}\")\n",
    "        \n",
    "        # 判断模型特性\n",
    "        if self.a > 0:\n",
    "            print(\"📈 模型特性: 衰减型（数据呈下降趋势）\")\n",
    "        else:\n",
    "            print(\"📊 模型特性: 增长型（数据呈上升趋势）\")\n",
    "    \n",
    "    def predict(self, steps=0):\n",
    "        \"\"\"\n",
    "        GM(1,1)预测函数\n",
    "        \n",
    "        参数:\n",
    "        steps: 预测步数，0表示只计算拟合值\n",
    "        \n",
    "        返回:\n",
    "        predictions: 预测结果数组\n",
    "        \"\"\"\n",
    "        if self.a is None or self.b is None:\n",
    "            raise ValueError(\"❌ 模型未训练，请先调用fit方法\")\n",
    "        \n",
    "        total_steps = self.n + steps\n",
    "        predictions = []\n",
    "        \n",
    "        # 计算拟合值和预测值\n",
    "        for k in range(1, total_steps + 1):\n",
    "            # 时间响应函数\n",
    "            if abs(self.a) < 1e-10:  # 处理a接近0的情况\n",
    "                x1_pred = self.x0[0] + self.b * k\n",
    "            else:\n",
    "                x1_pred = (self.x0[0] - self.b/self.a) * np.exp(-self.a * (k-1)) + self.b/self.a\n",
    "            \n",
    "            # 计算原始序列预测值\n",
    "            if k == 1:\n",
    "                x0_pred = self.x0[0]  # 第一个值保持不变\n",
    "            else:\n",
    "                if abs(self.a) < 1e-10:\n",
    "                    x0_pred = self.b\n",
    "                else:\n",
    "                    x1_prev = (self.x0[0] - self.b/self.a) * np.exp(-self.a * (k-2)) + self.b/self.a\n",
    "                    x0_pred = x1_pred - x1_prev\n",
    "                    \n",
    "            predictions.append(x0_pred)\n",
    "            \n",
    "        return np.array(predictions)\n",
    "    \n",
    "    def accuracy_test(self, data):\n",
    "        \"\"\"\n",
    "        模型精度检验\n",
    "        \n",
    "        参数:\n",
    "        data: 原始数据\n",
    "        \n",
    "        返回:\n",
    "        metrics: 精度指标字典\n",
    "        fitted: 拟合值\n",
    "        \"\"\"\n",
    "        # 获取拟合值\n",
    "        fitted = self.predict(0)[:len(data)]\n",
    "        self.fitted_values = fitted\n",
    "        \n",
    "        # 计算各种精度指标\n",
    "        data = np.array(data)\n",
    "        \n",
    "        # 相对误差\n",
    "        relative_errors = np.abs((data - fitted) / data) * 100\n",
    "        mean_relative_error = np.mean(relative_errors)\n",
    "        \n",
    "        # 其他指标\n",
    "        mape = mean_absolute_percentage_error(data, fitted) * 100\n",
    "        rmse = np.sqrt(mean_squared_error(data, fitted))\n",
    "        mae = np.mean(np.abs(data - fitted))\n",
    "        \n",
    "        # 精度等级判断\n",
    "        if mean_relative_error < 1:\n",
    "            grade = \"一级（很好）\"\n",
    "        elif mean_relative_error < 5:\n",
    "            grade = \"二级（合格）\"\n",
    "        elif mean_relative_error < 10:\n",
    "            grade = \"三级（勉强）\"\n",
    "        else:\n",
    "            grade = \"四级（不合格）\"\n",
    "        \n",
    "        metrics = {\n",
    "            'mean_relative_error': mean_relative_error,\n",
    "            'mape': mape,\n",
    "            'rmse': rmse,\n",
    "            'mae': mae,\n",
    "            'grade': grade,\n",
    "            'relative_errors': relative_errors\n",
    "        }\n",
    "        \n",
    "        # 打印精度结果\n",
    "        print(f\"\\n📊 模型精度检验结果:\")\n",
    "        print(f\"{'='*50}\")\n",
    "        print(f\"平均相对误差: {mean_relative_error:.4f}%\")\n",
    "        print(f\"MAPE: {mape:.4f}%\")\n",
    "        print(f\"RMSE: {rmse:.4f}\")\n",
    "        print(f\"MAE: {mae:.4f}\")\n",
    "        print(f\"精度等级: {grade}\")\n",
    "        print(f\"{'='*50}\")\n",
    "        \n",
    "        # 详细误差分析\n",
    "        print(f\"\\n📋 逐期误差分析:\")\n",
    "        print(f\"{'期数':<6}{'实际值':<12}{'拟合值':<12}{'绝对误差':<12}{'相对误差(%)':<12}\")\n",
    "        print(\"-\" * 60)\n",
    "        for i in range(len(data)):\n",
    "            abs_error = abs(data[i] - fitted[i])\n",
    "            rel_error = relative_errors[i]\n",
    "            print(f\"{i+1:<6}{data[i]:<12.2f}{fitted[i]:<12.2f}{abs_error:<12.2f}{rel_error:<12.2f}\")\n",
    "        \n",
    "        return metrics, fitted\n",
    "    \n",
    "    def plot_results(self, data, years, future_years=None, future_data=None, title=\"GM(1,1) result\"):\n",
    "        \"\"\"\n",
    "        结果可视化\n",
    "        \n",
    "        参数:\n",
    "        data: 原始数据\n",
    "        years: 对应年份\n",
    "        future_years: 预测年份\n",
    "        future_data: 预测数据\n",
    "        title: 图表标题\n",
    "        \"\"\"\n",
    "        plt.figure(figsize=(12, 8))\n",
    "        \n",
    "        # 主图\n",
    "        plt.subplot(2, 2, (1, 2))\n",
    "        \n",
    "        # 绘制实际值和拟合值\n",
    "        plt.plot(years, data, 'bo-', label='true value', linewidth=2, markersize=8, markerfacecolor='lightblue')\n",
    "        if self.fitted_values is not None:\n",
    "            plt.plot(years, self.fitted_values[:len(data)], 'r^-', label='fit value', \n",
    "                    linewidth=2, markersize=8, markerfacecolor='lightcoral')\n",
    "        \n",
    "        # 绘制预测值\n",
    "        if future_years is not None and future_data is not None:\n",
    "            plt.plot(future_years, future_data, 'gs-', label='pred', \n",
    "                    linewidth=2, markersize=8, markerfacecolor='lightgreen')\n",
    "            \n",
    "            # 添加预测区间的虚线连接\n",
    "            if len(data) > 0 and len(future_data) > 0:\n",
    "                connect_x = [years[-1], future_years[0]]\n",
    "                connect_y = [self.fitted_values[-1], future_data[0]]\n",
    "                plt.plot(connect_x, connect_y, 'g--', alpha=0.5, linewidth=1)\n",
    "        \n",
    "        plt.xlabel('year', fontsize=12)\n",
    "        plt.ylabel('data', fontsize=12)\n",
    "        plt.title(title, fontsize=14, fontweight='bold')\n",
    "        plt.legend(fontsize=11)\n",
    "        plt.grid(True, alpha=0.3)\n",
    "        \n",
    "        # 子图1：残差图\n",
    "        plt.subplot(2, 2, 3)\n",
    "        if self.fitted_values is not None:\n",
    "            residuals = np.array(data) - self.fitted_values[:len(data)]\n",
    "            plt.bar(years, residuals, alpha=0.7, color='orange')\n",
    "            plt.axhline(y=0, color='red', linestyle='--', alpha=0.8)\n",
    "            plt.xlabel('year', fontsize=10)\n",
    "            plt.ylabel('Residual', fontsize=10)\n",
    "            plt.title('Residual analysis', fontsize=12)\n",
    "            plt.grid(True, alpha=0.3)\n",
    "        \n",
    "        # 子图2：相对误差图\n",
    "        plt.subplot(2, 2, 4)\n",
    "        if hasattr(self, 'fitted_values') and self.fitted_values is not None:\n",
    "            rel_errors = np.abs((np.array(data) - self.fitted_values[:len(data)]) / np.array(data)) * 100\n",
    "            plt.bar(years, rel_errors, alpha=0.7, color='purple')\n",
    "            plt.axhline(y=5, color='red', linestyle='--', alpha=0.8, label='5%baseline')\n",
    "            plt.xlabel('year', fontsize=10)\n",
    "            plt.ylabel('error(%)', fontsize=10)\n",
    "            plt.title('error analysis', fontsize=12)\n",
    "            plt.legend(fontsize=9)\n",
    "            plt.grid(True, alpha=0.3)\n",
    "        \n",
    "        plt.tight_layout()\n",
    "        plt.show()\n",
    "                \n",
    "            \n",
    "            "
   ]
  },
  {
   "cell_type": "markdown",
   "id": "662da69a",
   "metadata": {},
   "source": [
    "# =============================================================================\n",
    "# 案例一：某地区GDP增长预测\n",
    "# ============================================================================="
   ]
  },
  {
   "cell_type": "code",
   "execution_count": null,
   "id": "a77f3964",
   "metadata": {},
   "outputs": [
    {
     "name": "stdout",
     "output_type": "stream",
     "text": [
      "\n",
      "🎯 案例背景:\n",
      "某地区2015-2021年GDP数据（单位：亿元），需要预测2022-2024年的GDP增长情况\n",
      "\n",
      "📊 原始数据展示:\n",
      "   year  population(e)\n",
      "0  2017           1416\n",
      "1  2018           1414\n",
      "2  2019           1412\n",
      "3  2020           1411\n",
      "4  2021           1409\n"
     ]
    }
   ],
   "source": [
    "print(\"\\n🎯 案例背景:\")\n",
    "print(\"某地区2015-2021年GDP数据（单位：亿元），需要预测2022-2024年的GDP增长情况\")\n",
    "\n",
    "# 数据准备\n",
    "gdp_data = [1416, 1414, 1412, 1411, 1409]\n",
    "years = list(range(2017, 2022))\n",
    "\n",
    "print(f\"\\n📊 原始数据展示:\")\n",
    "gdp_df = pd.DataFrame({\n",
    "    'year': years,\n",
    "    'population(e)': gdp_data\n",
    "})\n",
    "print(gdp_df.to_string(index=False))"
   ]
  },
  {
   "cell_type": "markdown",
   "id": "4b384401",
   "metadata": {},
   "source": [
    "# 数据基本统计"
   ]
  },
  {
   "cell_type": "code",
   "execution_count": 63,
   "id": "d46b9129",
   "metadata": {},
   "outputs": [
    {
     "name": "stdout",
     "output_type": "stream",
     "text": [
      "\n",
      "📈 数据基本统计:\n",
      "数据量: 5个\n",
      "平均值: 1412.40亿元\n",
      "标准差: 2.42亿元\n",
      "增长率: -0.12%（年均）\n"
     ]
    }
   ],
   "source": [
    "print(f\"\\n📈 数据基本统计:\")\n",
    "print(f\"数据量: {len(gdp_data)}个\")\n",
    "print(f\"平均值: {np.mean(gdp_data):.2f}亿元\")\n",
    "print(f\"标准差: {np.std(gdp_data):.2f}亿元\")\n",
    "print(f\"增长率: {((gdp_data[-1]/gdp_data[0])**(1/(len(gdp_data)-1)) - 1)*100:.2f}%（年均）\")"
   ]
  },
  {
   "cell_type": "markdown",
   "id": "98cc73f9",
   "metadata": {},
   "source": [
    "# 建立GM(1,1)模型"
   ]
  },
  {
   "cell_type": "code",
   "execution_count": 50,
   "id": "efa12a12",
   "metadata": {},
   "outputs": [
    {
     "name": "stdout",
     "output_type": "stream",
     "text": [
      "\n",
      "🔧 开始建立GM(1,1)模型...\n",
      "\n",
      "原始数据: [1416. 1414. 1412. 1411. 1409.]\n",
      "级比检验结果:\n",
      "检验边界: (0.717, 1.396)\n",
      "级比序列: ['1.001', '1.001', '1.001', '1.001']\n",
      "检验结果: 通过\n",
      "累加生成序列: [1416. 2830. 4242. 5653. 7062.]\n",
      "均值序列Z(1): [2123.  3536.  4947.5 6357.5]\n",
      "\n",
      "数据矩阵B形状: (4, 2)\n",
      "\n",
      "数据矩阵B: [[-2.1230e+03  1.0000e+00]\n",
      " [-3.5360e+03  1.0000e+00]\n",
      " [-4.9475e+03  1.0000e+00]\n",
      " [-6.3575e+03  1.0000e+00]]\n",
      "观测向量Y: [1414. 1412. 1411. 1409.]\n",
      "\n",
      "模型参数估计结果:\n",
      "发展系数 a = 0.001134\n",
      "灰作用量 b = 1416.307367\n",
      "📈 模型特性: 衰减型（数据呈下降趋势）\n"
     ]
    }
   ],
   "source": [
    "print(f\"\\n🔧 开始建立GM(1,1)模型...\")\n",
    "gm_gdp = GM11()\n",
    "gm_gdp.fit(gdp_data)"
   ]
  },
  {
   "cell_type": "markdown",
   "id": "1c0a9b79",
   "metadata": {},
   "source": [
    "# 精度检验"
   ]
  },
  {
   "cell_type": "code",
   "execution_count": 51,
   "id": "0caf7c31",
   "metadata": {},
   "outputs": [
    {
     "name": "stdout",
     "output_type": "stream",
     "text": [
      "\n",
      "🔍 进行模型精度检验...\n",
      "\n",
      "📊 模型精度检验结果:\n",
      "==================================================\n",
      "平均相对误差: 0.0113%\n",
      "MAPE: 0.0113%\n",
      "RMSE: 0.2000\n",
      "MAE: 0.1600\n",
      "精度等级: 一级（很好）\n",
      "==================================================\n",
      "\n",
      "📋 逐期误差分析:\n",
      "期数    实际值         拟合值         绝对误差        相对误差(%)     \n",
      "------------------------------------------------------------\n",
      "1     1416.00     1416.00     0.00        0.00        \n",
      "2     1414.00     1413.90     0.10        0.01        \n",
      "3     1412.00     1412.30     0.30        0.02        \n",
      "4     1411.00     1410.70     0.30        0.02        \n",
      "5     1409.00     1409.10     0.10        0.01        \n"
     ]
    }
   ],
   "source": [
    "print(f\"\\n🔍 进行模型精度检验...\")\n",
    "metrics, fitted_values = gm_gdp.accuracy_test(gdp_data)"
   ]
  },
  {
   "cell_type": "markdown",
   "id": "5113646a",
   "metadata": {},
   "source": [
    "# 预测未来3年"
   ]
  },
  {
   "cell_type": "code",
   "execution_count": 52,
   "id": "86a6f284",
   "metadata": {},
   "outputs": [
    {
     "name": "stdout",
     "output_type": "stream",
     "text": [
      "\n",
      "🔮 预测未来3年GDP...\n"
     ]
    }
   ],
   "source": [
    "print(f\"\\n🔮 预测未来3年GDP...\")\n",
    "future_predictions = gm_gdp.predict(3)\n",
    "future_years = list(range(2022, 2025))\n",
    "predicted_values = future_predictions[len(gdp_data):]"
   ]
  },
  {
   "cell_type": "markdown",
   "id": "feb045b7",
   "metadata": {},
   "source": [
    "# 结果汇总展示"
   ]
  },
  {
   "cell_type": "code",
   "execution_count": 53,
   "id": "90046744",
   "metadata": {},
   "outputs": [
    {
     "name": "stdout",
     "output_type": "stream",
     "text": [
      "\n",
      "📋 完整结果汇总:\n",
      "================================================================================\n",
      "年份      类型      数值(亿元)      增长率(%)      说明                  \n",
      "--------------------------------------------------------------------------------\n",
      "2017    实际值     1416        0.00        历史数据                \n",
      "2018    实际值     1414        -0.14       历史数据                \n",
      "2019    实际值     1412        -0.14       历史数据                \n",
      "2020    实际值     1411        -0.07       历史数据                \n",
      "2021    实际值     1409        -0.14       历史数据                \n",
      "2022    预测值     1408        -0.11       模型预测                \n",
      "2023    预测值     1406        -0.11       模型预测                \n",
      "2024    预测值     1404        -0.11       模型预测                \n",
      "================================================================================\n"
     ]
    }
   ],
   "source": [
    "print(f\"\\n📋 完整结果汇总:\")\n",
    "print(\"=\" * 80)\n",
    "print(f\"{'年份':<8}{'类型':<8}{'数值(亿元)':<12}{'增长率(%)':<12}{'说明':<20}\")\n",
    "print(\"-\" * 80)\n",
    "\n",
    "for i, year in enumerate(years):\n",
    "    growth_rate = 0 if i == 0 else ((gdp_data[i]/gdp_data[i-1] - 1) * 100)\n",
    "    print(f\"{year:<8}{'实际值':<8}{gdp_data[i]:<12.0f}{growth_rate:<12.2f}{'历史数据':<20}\")\n",
    "\n",
    "for i, year in enumerate(future_years):\n",
    "    prev_value = gdp_data[-1] if i == 0 else predicted_values[i-1]\n",
    "    growth_rate = ((predicted_values[i]/prev_value - 1) * 100)\n",
    "    print(f\"{year:<8}{'预测值':<8}{predicted_values[i]:<12.0f}{growth_rate:<12.2f}{'模型预测':<20}\")\n",
    "\n",
    "print(\"=\" * 80)"
   ]
  },
  {
   "cell_type": "markdown",
   "id": "f62b9e55",
   "metadata": {},
   "source": [
    "# 预测结果分析"
   ]
  },
  {
   "cell_type": "code",
   "execution_count": 54,
   "id": "60f8b3c2",
   "metadata": {},
   "outputs": [
    {
     "name": "stdout",
     "output_type": "stream",
     "text": [
      "\n",
      "💡 预测结果分析:\n",
      "• 2022年预测GDP: 1408亿元\n",
      "• 2023年预测GDP: 1406亿元\n",
      "• 2024年预测GDP: 1404亿元\n",
      "• 三年总增长: -0.33%\n",
      "• 年均增长率: -0.11%\n"
     ]
    }
   ],
   "source": [
    "print(f\"\\n💡 预测结果分析:\")\n",
    "print(f\"• 2022年预测GDP: {predicted_values[0]:.0f}亿元\")\n",
    "print(f\"• 2023年预测GDP: {predicted_values[1]:.0f}亿元\") \n",
    "print(f\"• 2024年预测GDP: {predicted_values[2]:.0f}亿元\")\n",
    "print(f\"• 三年总增长: {((predicted_values[-1]/gdp_data[-1] - 1)*100):.2f}%\")\n",
    "print(f\"• 年均增长率: {((predicted_values[-1]/gdp_data[-1])**(1/3) - 1)*100:.2f}%\")"
   ]
  },
  {
   "cell_type": "markdown",
   "id": "c46f6d79",
   "metadata": {},
   "source": [
    "# 模型参数解释"
   ]
  },
  {
   "cell_type": "code",
   "execution_count": 55,
   "id": "58edcacf",
   "metadata": {},
   "outputs": [
    {
     "name": "stdout",
     "output_type": "stream",
     "text": [
      "\n",
      "🔬 模型参数解释:\n",
      "• 发展系数a = 0.001134\n",
      "  → a > 0，表明该地区GDP呈衰减趋势\n",
      "• 灰作用量b = 1416.31\n",
      "  → 反映系统的内生增长能力\n"
     ]
    }
   ],
   "source": [
    "print(f\"\\n🔬 模型参数解释:\")\n",
    "print(f\"• 发展系数a = {gm_gdp.a:.6f}\")\n",
    "if gm_gdp.a < 0:\n",
    "    print(f\"  → a < 0，表明该地区GDP呈增长趋势\")\n",
    "    print(f\"  → |a| = {abs(gm_gdp.a):.6f}，增长速度适中\")\n",
    "else:\n",
    "    print(f\"  → a > 0，表明该地区GDP呈衰减趋势\")\n",
    "\n",
    "print(f\"• 灰作用量b = {gm_gdp.b:.2f}\")\n",
    "print(f\"  → 反映系统的内生增长能力\")"
   ]
  },
  {
   "cell_type": "markdown",
   "id": "43f075f2",
   "metadata": {},
   "source": [
    "# 可视化结果"
   ]
  },
  {
   "cell_type": "code",
   "execution_count": 64,
   "id": "060c38bd",
   "metadata": {},
   "outputs": [
    {
     "name": "stdout",
     "output_type": "stream",
     "text": [
      "\n",
      "📊 生成可视化图表...\n"
     ]
    },
    {
     "data": {
      "image/png": "[encoded data removed]",
      "text/plain": [
       "<Figure size 1200x800 with 3 Axes>"
      ]
     },
     "metadata": {},
     "output_type": "display_data"
    }
   ],
   "source": [
    "print(f\"\\n📊 生成可视化图表...\")\n",
    "gm_gdp.plot_results(gdp_data, years, future_years, predicted_values, \n",
    "                   \"Analysis of GDP Growth Forecasts for a Specific Region\")"
   ]
  },
  {
   "cell_type": "markdown",
   "id": "65ba1642",
   "metadata": {},
   "source": [
    "# 模型适用性评估"
   ]
  },
  {
   "cell_type": "code",
   "execution_count": 57,
   "id": "e404d7b2",
   "metadata": {},
   "outputs": [
    {
     "name": "stdout",
     "output_type": "stream",
     "text": [
      "\n",
      "✅ 模型适用性评估:\n",
      "1. 数据量检查: 5个观测值 ✓（GM(1,1)适合小样本）\n",
      "2. 级比检验: 通过\n",
      "3. 精度等级: 一级（很好）\n",
      "4. 数据趋势: 单调递增 ✓（适合GM(1,1)建模）\n"
     ]
    }
   ],
   "source": [
    "print(f\"\\n✅ 模型适用性评估:\")\n",
    "print(f\"1. 数据量检查: {len(gdp_data)}个观测值 ✓（GM(1,1)适合小样本）\")\n",
    "print(f\"2. 级比检验: {'通过' if all(0.818 <= gdp_data[i-1]/gdp_data[i] <= 1.220 for i in range(1, len(gdp_data))) else '不通过'}\")\n",
    "print(f\"3. 精度等级: {metrics['grade']}\")\n",
    "print(f\"4. 数据趋势: 单调递增 ✓（适合GM(1,1)建模）\")\n"
   ]
  },
  {
   "cell_type": "markdown",
   "id": "45cdd965",
   "metadata": {},
   "source": [
    "# 风险提示"
   ]
  },
  {
   "cell_type": "code",
   "execution_count": 58,
   "id": "356df427",
   "metadata": {},
   "outputs": [
    {
     "name": "stdout",
     "output_type": "stream",
     "text": [
      "\n",
      "⚠️  使用建议与风险提示:\n",
      "• 本模型适用于短期预测（1-3年），长期预测需谨慎使用\n",
      "• 预测结果基于历史趋势延续的假设，如遇重大政策变化或经济冲击可能失效\n",
      "• 建议结合其他预测方法进行对比验证\n",
      "• 模型精度为一级（很好），预测结果可作为参考依据\n",
      "\n",
      "============================================================\n",
      "案例一：GDP增长预测 - 分析完成！\n",
      "============================================================\n"
     ]
    }
   ],
   "source": [
    "print(f\"\\n⚠️  使用建议与风险提示:\")\n",
    "print(f\"• 本模型适用于短期预测（1-3年），长期预测需谨慎使用\")\n",
    "print(f\"• 预测结果基于历史趋势延续的假设，如遇重大政策变化或经济冲击可能失效\")\n",
    "print(f\"• 建议结合其他预测方法进行对比验证\")\n",
    "print(f\"• 模型精度为{metrics['grade']}，预测结果可作为参考依据\")\n",
    "\n",
    "print(f\"\\n\" + \"=\"*60)\n",
    "print(\"案例一：GDP增长预测 - 分析完成！\")\n",
    "print(\"=\"*60)"
   ]
  }
 ],
 "metadata": {
  "kernelspec": {
   "display_name": "math",
   "language": "python",
   "name": "python3"
  },
  "language_info": {
   "codemirror_mode": {
    "name": "ipython",
    "version": 3
   },
   "file_extension": ".py",
   "mimetype": "text/x-python",
   "name": "python",
   "nbconvert_exporter": "python",
   "pygments_lexer": "ipython3",
   "version": "3.12.11"
  }
 },
 "nbformat": 4,
 "nbformat_minor": 5
}
