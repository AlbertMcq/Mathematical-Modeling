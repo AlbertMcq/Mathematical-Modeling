{
 "cells": [
  {
   "cell_type": "markdown",
   "id": "d5b07f92-36c0-4d88-8097-1f8ffc68e1d4",
   "metadata": {},
   "source": [
    "# GM(1,1)灰色预测模型 - 案例二：企业销售额预测\n",
    "# 数学建模课程练习\n"
   ]
  },
  {
   "cell_type": "code",
   "execution_count": 121,
   "id": "657ccf08-d135-4fd8-91f5-511520f01c87",
   "metadata": {},
   "outputs": [],
   "source": [
    "import numpy as np\n",
    "import pandas as pd\n",
    "import matplotlib.pyplot as plt\n",
    "from sklearn.metrics import mean_absolute_percentage_error, mean_squared_error\n",
    "import seaborn as sns\n",
    "import warnings\n",
    "warnings.filterwarnings('ignore')\n",
    "\n",
    "# 设置图表样式\n",
    "plt.rcParams['font.sans-serif'] = ['SimHei', 'DejaVu Sans']\n",
    "plt.rcParams['axes.unicode_minus'] = False\n",
    "plt.style.use('seaborn-v0_8')\n",
    "sns.set_palette(\"husl\")"
   ]
  },
  {
   "cell_type": "code",
   "execution_count": 122,
   "id": "4eae56ef-f709-43fb-a4f5-7aadff6ed9eb",
   "metadata": {},
   "outputs": [
    {
     "name": "stdout",
     "output_type": "stream",
     "text": [
      "============================================================\n",
      "GM(1,1)灰色预测模型 - 企业销售额预测案例\n",
      "============================================================\n"
     ]
    }
   ],
   "source": [
    "print(\"=\" * 60)\n",
    "print(\"GM(1,1)灰色预测模型 - 企业销售额预测案例\")\n",
    "print(\"=\" * 60)"
   ]
  },
  {
   "cell_type": "markdown",
   "id": "5d0ce479-33a2-43e6-a48a-553bbb26bae9",
   "metadata": {},
   "source": [
    "# 重用前面定义的GM11类（在实际使用中，可以将其保存为单独的模块导入）"
   ]
  },
  {
   "cell_type": "code",
   "execution_count": 123,
   "id": "3366b7a7-26a8-4bec-9a0b-96589a6723b0",
   "metadata": {},
   "outputs": [],
   "source": [
    "class GM11:\n",
    "    \"\"\"\n",
    "    GM(1,1)灰色预测模型类 - 增强版\n",
    "    \n",
    "    新增功能：\n",
    "    1. 敏感性分析\n",
    "    2. 预测区间估计\n",
    "    3. 模型比较功能\n",
    "    \"\"\"\n",
    "    \n",
    "    def __init__(self):\n",
    "        self.a = None\n",
    "        self.b = None\n",
    "        self.x0 = None\n",
    "        self.x1 = None\n",
    "        self.n = None\n",
    "        self.fitted_values = None\n",
    "        self.model_info = {}\n",
    "        \n",
    "    def level_ratio_test(self, data):\n",
    "        \"\"\"级比检验函数（增强版）\"\"\"\n",
    "        n = len(data)\n",
    "        level_ratios = []\n",
    "        \n",
    "        for i in range(1, n):\n",
    "            if data[i] != 0:\n",
    "                ratio = data[i-1] / data[i]\n",
    "                level_ratios.append(ratio)\n",
    "        \n",
    "        # 改进的检验边界计算\n",
    "        lambda_val = (n - 1) / (n + 1)\n",
    "        lower_bound = np.exp(-2 * lambda_val)\n",
    "        upper_bound = np.exp(2 * lambda_val)\n",
    "        bounds = (lower_bound, upper_bound)\n",
    "        \n",
    "        valid = all(lower_bound <= ratio <= upper_bound for ratio in level_ratios)\n",
    "        \n",
    "        # 计算级比的统计特征\n",
    "        ratio_mean = np.mean(level_ratios)\n",
    "        ratio_std = np.std(level_ratios)\n",
    "        \n",
    "        print(f\"📊 级比检验详细结果:\")\n",
    "        print(f\"检验边界: ({lower_bound:.4f}, {upper_bound:.4f})\")\n",
    "        print(f\"级比均值: {ratio_mean:.4f}\")\n",
    "        print(f\"级比标准差: {ratio_std:.4f}\")\n",
    "        print(f\"级比序列: {[f'{r:.4f}' for r in level_ratios]}\")\n",
    "        print(f\"检验结果: {'✅ 通过' if valid else '❌ 不通过'}\")\n",
    "        \n",
    "        if not valid:\n",
    "            print(\"💡 建议：可尝试数据平滑处理或使用其他预测方法\")\n",
    "        \n",
    "        return valid, level_ratios, bounds\n",
    "    \n",
    "    def fit(self, data, verbose=True):\n",
    "        \"\"\"训练GM(1,1)模型（增强版）\"\"\"\n",
    "        self.x0 = np.array(data, dtype=float)\n",
    "        self.n = len(data)\n",
    "        \n",
    "        if verbose:\n",
    "            print(f\"\\n📈 原始数据分析:\")\n",
    "            print(f\"数据序列: {self.x0}\")\n",
    "            print(f\"数据长度: {self.n}\")\n",
    "            print(f\"数据范围: [{np.min(self.x0):.2f}, {np.max(self.x0):.2f}]\")\n",
    "            print(f\"增长倍数: {self.x0[-1]/self.x0[0]:.2f}\")\n",
    "        \n",
    "        # 级比检验\n",
    "        valid, ratios, bounds = self.level_ratio_test(data)\n",
    "        \n",
    "        # 存储模型信息\n",
    "        self.model_info['level_ratio_valid'] = valid\n",
    "        self.model_info['level_ratios'] = ratios\n",
    "        self.model_info['bounds'] = bounds\n",
    "        \n",
    "        # 一次累加生成\n",
    "        self.x1 = np.cumsum(self.x0)\n",
    "        if verbose:\n",
    "            print(f\"\\n🔄 累加生成序列: {self.x1}\")\n",
    "        \n",
    "        # 构造均值序列\n",
    "        z1 = np.array([0.5 * (self.x1[i] + self.x1[i-1]) for i in range(1, self.n)])\n",
    "        if verbose:\n",
    "            print(f\"均值序列Z(1): {z1}\")\n",
    "        \n",
    "        # 构造数据矩阵\n",
    "        B = np.column_stack((-z1, np.ones(len(z1))))\n",
    "        Y = self.x0[1:]\n",
    "        \n",
    "        # 参数估计\n",
    "        try:\n",
    "            params = np.linalg.lstsq(B, Y, rcond=None)[0]\n",
    "            self.a, self.b = params\n",
    "            \n",
    "            # 存储矩阵信息\n",
    "            self.model_info['B_matrix'] = B\n",
    "            self.model_info['Y_vector'] = Y\n",
    "            self.model_info['condition_number'] = np.linalg.cond(B.T @ B)\n",
    "            \n",
    "        except np.linalg.LinAlgError as e:\n",
    "            print(f\"❌ 参数估计失败: {e}\")\n",
    "            return\n",
    "        \n",
    "        if verbose:\n",
    "            print(f\"\\n🎯 模型参数估计:\")\n",
    "            print(f\"发展系数 a = {self.a:.6f}\")\n",
    "            print(f\"灰作用量 b = {self.b:.4f}\")\n",
    "            print(f\"矩阵条件数: {self.model_info['condition_number']:.2f}\")\n",
    "            \n",
    "            # 参数解释\n",
    "            if self.a < 0:\n",
    "                print(\"📈 系统特征: 增长型\")\n",
    "                growth_rate = -self.a\n",
    "                print(f\"增长强度: {growth_rate:.4f}\")\n",
    "            else:\n",
    "                print(\"📉 系统特征: 衰减型\")\n",
    "    \n",
    "    def predict(self, steps=0):\n",
    "        \"\"\"预测函数（增强版）\"\"\"\n",
    "        if self.a is None or self.b is None:\n",
    "            raise ValueError(\"❌ 模型未训练，请先调用fit方法\")\n",
    "        \n",
    "        total_steps = self.n + steps\n",
    "        predictions = []\n",
    "        x1_predictions = []  # 同时记录累加序列预测值\n",
    "        \n",
    "        for k in range(1, total_steps + 1):\n",
    "            # 时间响应函数\n",
    "            if abs(self.a) < 1e-10:\n",
    "                x1_pred = self.x0[0] + self.b * (k-1)\n",
    "            else:\n",
    "                x1_pred = (self.x0[0] - self.b/self.a) * np.exp(-self.a * (k-1)) + self.b/self.a\n",
    "            \n",
    "            x1_predictions.append(x1_pred)\n",
    "            \n",
    "            # 还原到原始序列\n",
    "            if k == 1:\n",
    "                x0_pred = self.x0[0]\n",
    "            else:\n",
    "                x0_pred = x1_pred - x1_predictions[k-2]\n",
    "                \n",
    "            predictions.append(x0_pred)\n",
    "        \n",
    "        # 存储预测信息\n",
    "        self.model_info['x1_predictions'] = x1_predictions\n",
    "        \n",
    "        return np.array(predictions)\n",
    "    \n",
    "    def accuracy_test(self, data):\n",
    "        \"\"\"精度检验（增强版）\"\"\"\n",
    "        fitted = self.predict(0)[:len(data)]\n",
    "        self.fitted_values = fitted\n",
    "        \n",
    "        data = np.array(data)\n",
    "        \n",
    "        # 基本精度指标\n",
    "        relative_errors = np.abs((data - fitted) / data) * 100\n",
    "        mean_relative_error = np.mean(relative_errors)\n",
    "        mape = mean_absolute_percentage_error(data, fitted) * 100\n",
    "        rmse = np.sqrt(mean_squared_error(data, fitted))\n",
    "        mae = np.mean(np.abs(data - fitted))\n",
    "        \n",
    "        # 新增指标\n",
    "        max_error = np.max(relative_errors)\n",
    "        min_error = np.min(relative_errors)\n",
    "        std_error = np.std(relative_errors)\n",
    "        \n",
    "        # 方向精度（预测方向是否正确）\n",
    "        if len(data) > 1:\n",
    "            actual_directions = np.sign(np.diff(data))\n",
    "            fitted_directions = np.sign(np.diff(fitted))\n",
    "            direction_accuracy = np.mean(actual_directions == fitted_directions) * 100\n",
    "        else:\n",
    "            direction_accuracy = 0\n",
    "        \n",
    "        # 精度等级\n",
    "        if mean_relative_error < 1:\n",
    "            grade = \"一级（很好）\"\n",
    "        elif mean_relative_error < 5:\n",
    "            grade = \"二级（合格）\"\n",
    "        elif mean_relative_error < 10:\n",
    "            grade = \"三级（勉强）\"\n",
    "        else:\n",
    "            grade = \"四级（不合格）\"\n",
    "        \n",
    "        metrics = {\n",
    "            'mean_relative_error': mean_relative_error,\n",
    "            'mape': mape,\n",
    "            'rmse': rmse,\n",
    "            'mae': mae,\n",
    "            'max_error': max_error,\n",
    "            'min_error': min_error,\n",
    "            'std_error': std_error,\n",
    "            'direction_accuracy': direction_accuracy,\n",
    "            'grade': grade,\n",
    "            'relative_errors': relative_errors\n",
    "        }\n",
    "        \n",
    "        # 输出详细结果\n",
    "        print(f\"\\n📊 模型精度检验结果:\")\n",
    "        print(\"=\" * 60)\n",
    "        print(f\"平均相对误差: {mean_relative_error:.4f}%\")\n",
    "        print(f\"MAPE: {mape:.4f}%\")\n",
    "        print(f\"RMSE: {rmse:.4f}\")\n",
    "        print(f\"MAE: {mae:.4f}\")\n",
    "        print(f\"最大误差: {max_error:.4f}%\")\n",
    "        print(f\"最小误差: {min_error:.4f}%\")\n",
    "        print(f\"误差标准差: {std_error:.4f}%\")\n",
    "        print(f\"方向精度: {direction_accuracy:.2f}%\")\n",
    "        print(f\"精度等级: {grade}\")\n",
    "        print(\"=\" * 60)\n",
    "        \n",
    "        return metrics, fitted\n",
    "    \n",
    "    def sensitivity_analysis(self, data, perturbation=0.05):\n",
    "        \"\"\"敏感性分析\"\"\"\n",
    "        print(f\"\\n🔬 敏感性分析 (扰动幅度: ±{perturbation*100:.1f}%)\")\n",
    "        \n",
    "        base_predictions = self.predict(3)\n",
    "        sensitivity_results = []\n",
    "        \n",
    "        for i in range(len(data)):\n",
    "            # 正向扰动\n",
    "            perturbed_data_pos = data.copy()\n",
    "            perturbed_data_pos[i] *= (1 + perturbation)\n",
    "            \n",
    "            gm_temp = GM11()\n",
    "            gm_temp.fit(perturbed_data_pos, verbose=False)\n",
    "            pred_pos = gm_temp.predict(3)\n",
    "            \n",
    "            # 负向扰动\n",
    "            perturbed_data_neg = data.copy()\n",
    "            perturbed_data_neg[i] *= (1 - perturbation)\n",
    "            \n",
    "            gm_temp = GM11()\n",
    "            gm_temp.fit(perturbed_data_neg, verbose=False)\n",
    "            pred_neg = gm_temp.predict(3)\n",
    "            \n",
    "            # 计算敏感性\n",
    "            sensitivity = np.mean(np.abs(pred_pos[-3:] - pred_neg[-3:]) / base_predictions[-3:]) / (2 * perturbation)\n",
    "            sensitivity_results.append(sensitivity)\n",
    "            \n",
    "            print(f\"数据点{i+1}的敏感性系数: {sensitivity:.4f}\")\n",
    "        \n",
    "        return sensitivity_results\n",
    "    \n",
    "    def plot_comprehensive_analysis(self, data, years, future_years=None, future_data=None, title=\"综合分析\"):\n",
    "        \"\"\"综合分析可视化\"\"\"\n",
    "        fig, axes = plt.subplots(2, 3, figsize=(18, 12))\n",
    "        fig.suptitle(title, fontsize=16, fontweight='bold')\n",
    "        \n",
    "        # 1. 主预测图\n",
    "        ax1 = axes[0, 0]\n",
    "        ax1.plot(years, data, 'bo-', label='true value', linewidth=3, markersize=8)\n",
    "        if self.fitted_values is not None:\n",
    "            ax1.plot(years, self.fitted_values[:len(data)], 'r^-', label='fit value', \n",
    "                    linewidth=2, markersize=6)\n",
    "        if future_years is not None and future_data is not None:\n",
    "            ax1.plot(future_years, future_data, 'gs-', label='pred', \n",
    "                    linewidth=2, markersize=6)\n",
    "        ax1.set_xlabel('sale')\n",
    "        ax1.set_ylabel('sale P(ten thousand yuan)')\n",
    "        ax1.set_title('trent sale')\n",
    "        ax1.legend()\n",
    "        ax1.grid(True, alpha=0.3)\n",
    "        \n",
    "        # 2. 累加序列图\n",
    "        ax2 = axes[0, 1]\n",
    "        if hasattr(self, 'x1'):\n",
    "            ax2.plot(years, self.x1, 'mo-', label='CV', linewidth=2)\n",
    "            if 'x1_predictions' in self.model_info:\n",
    "                all_years = years + future_years if future_years else years\n",
    "                ax2.plot(all_years[:len(self.model_info['x1_predictions'])], \n",
    "                        self.model_info['x1_predictions'], 'c--', label='CV fit', alpha=0.7)\n",
    "        ax2.set_xlabel('year')\n",
    "        ax2.set_ylabel('CV')\n",
    "        ax2.set_title('CV data')\n",
    "        ax2.legend()\n",
    "        ax2.grid(True, alpha=0.3)\n",
    "        \n",
    "        # 3. 残差分析\n",
    "        ax3 = axes[0, 2]\n",
    "        if self.fitted_values is not None:\n",
    "            residuals = np.array(data) - self.fitted_values[:len(data)]\n",
    "            ax3.bar(years, residuals, alpha=0.7, color='orange')\n",
    "            ax3.axhline(y=0, color='red', linestyle='--')\n",
    "            ax3.set_xlabel('data')\n",
    "            ax3.set_ylabel('residual')\n",
    "            ax3.set_title('residual analysis')\n",
    "            ax3.grid(True, alpha=0.3)\n",
    "        \n",
    "        # 4. 相对误差分析\n",
    "        ax4 = axes[1, 0]\n",
    "        if self.fitted_values is not None:\n",
    "            rel_errors = np.abs((np.array(data) - self.fitted_values[:len(data)]) / np.array(data)) * 100\n",
    "            bars = ax4.bar(years, rel_errors, alpha=0.7, color='purple')\n",
    "            ax4.axhline(y=5, color='red', linestyle='--', alpha=0.8, label='5%baseline')\n",
    "            ax4.set_xlabel('year')\n",
    "            ax4.set_ylabel('error(%)')\n",
    "            ax4.set_title('error analysis')\n",
    "            ax4.legend()\n",
    "            ax4.grid(True, alpha=0.3)\n",
    "            \n",
    "            # 添加数值标签\n",
    "            for bar, error in zip(bars, rel_errors):\n",
    "                height = bar.get_height()\n",
    "                ax4.text(bar.get_x() + bar.get_width()/2., height + 0.1,\n",
    "                        f'{error:.1f}%', ha='center', va='bottom', fontsize=9)\n",
    "        \n",
    "        # 5. 级比分析\n",
    "        ax5 = axes[1, 1]\n",
    "        if 'level_ratios' in self.model_info:\n",
    "            ratios = self.model_info['level_ratios']\n",
    "            bounds = self.model_info['bounds']\n",
    "            \n",
    "            ax5.plot(years[1:], ratios, 'go-', label='ratio value', linewidth=2, markersize=6)\n",
    "            ax5.axhline(y=bounds[0], color='red', linestyle='--', alpha=0.7, label=f'lower bound:({bounds[0]:.3f})')\n",
    "            ax5.axhline(y=bounds[1], color='red', linestyle='--', alpha=0.7, label=f'upper bound:({bounds[1]:.3f})')\n",
    "            ax5.fill_between(years[1:], bounds[0], bounds[1], alpha=0.2, color='green', label='Qualified Range')\n",
    "            ax5.set_xlabel('year')\n",
    "            ax5.set_ylabel('Grade ratio value')\n",
    "            ax5.set_title('Grade ratio test')\n",
    "            ax5.legend()\n",
    "            ax5.grid(True, alpha=0.3)\n",
    "        \n",
    "        # 6. 增长率分析\n",
    "        ax6 = axes[1, 2]\n",
    "        # 计算历史增长率\n",
    "        growth_rates = [0]  # 第一年增长率为0\n",
    "        for i in range(1, len(data)):\n",
    "            growth_rate = (data[i] - data[i-1]) / data[i-1] * 100\n",
    "            growth_rates.append(growth_rate)\n",
    "        \n",
    "        ax6.bar(years, growth_rates, alpha=0.7, color='skyblue', label='his rate')\n",
    "        \n",
    "        # 预测期增长率\n",
    "        if future_data is not None:\n",
    "            future_growth_rates = []\n",
    "            prev_value = data[-1]\n",
    "            for value in future_data:\n",
    "                growth_rate = (value - prev_value) / prev_value * 100\n",
    "                future_growth_rates.append(growth_rate)\n",
    "                prev_value = value\n",
    "            \n",
    "            ax6.bar(future_years, future_growth_rates, alpha=0.7, color='lightgreen', label='pred rate')\n",
    "        \n",
    "        ax6.axhline(y=0, color='black', linestyle='-', alpha=0.5)\n",
    "        ax6.set_xlabel('year')\n",
    "        ax6.set_ylabel('Growth rate(%)')\n",
    "        ax6.set_title('Growth rate')\n",
    "        ax6.legend()\n",
    "        ax6.grid(True, alpha=0.3)\n",
    "        \n",
    "        plt.tight_layout()\n",
    "        plt.show()\n"
   ]
  },
  {
   "cell_type": "markdown",
   "id": "a3b3c1f3-4b66-446e-89fc-3225f2479097",
   "metadata": {},
   "source": [
    "# =============================================================================\n",
    "# 案例二：某科技企业销售额预测\n",
    "# ============================================================================="
   ]
  },
  {
   "cell_type": "code",
   "execution_count": 124,
   "id": "e9d42f9c-0b18-432a-9010-fa179757eb77",
   "metadata": {},
   "outputs": [
    {
     "name": "stdout",
     "output_type": "stream",
     "text": [
      "\n",
      "🎯 案例背景:\n",
      "某科技企业2018-2023年销售额数据（单位：万元），需要预测2024-2026年的销售增长情况\n",
      "该企业主营软件开发和技术服务，近年来业务快速发展\n"
     ]
    }
   ],
   "source": [
    "print(\"\\n🎯 案例背景:\")\n",
    "print(\"某科技企业2018-2023年销售额数据（单位：万元），需要预测2024-2026年的销售增长情况\")\n",
    "print(\"该企业主营软件开发和技术服务，近年来业务快速发展\")"
   ]
  },
  {
   "cell_type": "markdown",
   "id": "405d12be-6fd1-4fc7-aad3-e2554b422d0e",
   "metadata": {},
   "source": [
    "# 数据准备"
   ]
  },
  {
   "cell_type": "code",
   "execution_count": 125,
   "id": "6eec6f08-b2ba-47b5-a5f4-29f4df866b96",
   "metadata": {},
   "outputs": [
    {
     "name": "stdout",
     "output_type": "stream",
     "text": [
      "\n",
      "📊 原始数据展示:\n",
      "  年份  销售额(万元) 同比增长率(%)\n",
      "2018     1200        0\n",
      "2019     1450    20.83\n",
      "2020     1680    15.86\n",
      "2021     1950    16.07\n",
      "2022     2200    12.82\n",
      "2023     2480    12.73\n",
      "2024     2699     8.83\n"
     ]
    }
   ],
   "source": [
    "sales_data = [1200, 1450, 1680, 1950, 2200, 2480,2699]\n",
    "years = list(range(2018, 2025))\n",
    "\n",
    "print(f\"\\n📊 原始数据展示:\")\n",
    "sales_df = pd.DataFrame({\n",
    "    '年份': years,\n",
    "    '销售额(万元)': sales_data,\n",
    "    '同比增长率(%)': [0] + [f\"{((sales_data[i]/sales_data[i-1]-1)*100):.2f}\" for i in range(1, len(sales_data))]\n",
    "})\n",
    "print(sales_df.to_string(index=False))"
   ]
  },
  {
   "cell_type": "markdown",
   "id": "703944c3-3066-45fb-9554-823a5bb794b7",
   "metadata": {},
   "source": [
    "# 数据深度分析"
   ]
  },
  {
   "cell_type": "code",
   "execution_count": 126,
   "id": "976c12cf-ac63-4b17-81e5-4ceb1f026432",
   "metadata": {},
   "outputs": [
    {
     "name": "stdout",
     "output_type": "stream",
     "text": [
      "\n",
      "📈 数据深度分析:\n",
      "样本数量: 7个\n",
      "时间跨度: 7年\n",
      "销售额范围: 1200 - 2699万元\n",
      "总增长倍数: 2.25倍\n",
      "年均复合增长率: 14.46%\n",
      "平均增长额: 250万元/年\n",
      "增长趋势: 稳定上升\n"
     ]
    }
   ],
   "source": [
    "print(f\"\\n📈 数据深度分析:\")\n",
    "print(f\"样本数量: {len(sales_data)}个\")\n",
    "print(f\"时间跨度: {years[-1] - years[0] + 1}年\")\n",
    "print(f\"销售额范围: {min(sales_data):.0f} - {max(sales_data):.0f}万元\")\n",
    "print(f\"总增长倍数: {sales_data[-1]/sales_data[0]:.2f}倍\")\n",
    "print(f\"年均复合增长率: {((sales_data[-1]/sales_data[0])**(1/(len(sales_data)-1)) - 1)*100:.2f}%\")\n",
    "print(f\"平均增长额: {np.mean(np.diff(sales_data)):.0f}万元/年\")\n",
    "print(f\"增长趋势: {'稳定上升' if all(sales_data[i] >= sales_data[i-1] for i in range(1, len(sales_data))) else '波动上升'}\")"
   ]
  },
  {
   "cell_type": "markdown",
   "id": "02973228-5d8c-4278-a2ef-06869f82ba58",
   "metadata": {},
   "source": [
    "# 行业对比分析（假设数据）"
   ]
  },
  {
   "cell_type": "code",
   "execution_count": 127,
   "id": "260f18fb-e580-4f9d-bad1-ebc7446aea36",
   "metadata": {},
   "outputs": [
    {
     "name": "stdout",
     "output_type": "stream",
     "text": [
      "\n",
      "🏢 行业对比分析（参考）:\n",
      "行业平均增长率: 15.8%\n",
      "企业平均增长率: 14.5%\n",
      "相对表现: 低于行业平均\n"
     ]
    }
   ],
   "source": [
    "\n",
    "print(f\"\\n🏢 行业对比分析（参考）:\")\n",
    "industry_avg_growth = 15.8  # 假设行业平均增长率\n",
    "company_avg_growth = ((sales_data[-1]/sales_data[0])**(1/(len(sales_data)-1)) - 1)*100\n",
    "print(f\"行业平均增长率: {industry_avg_growth:.1f}%\")\n",
    "print(f\"企业平均增长率: {company_avg_growth:.1f}%\")\n",
    "print(f\"相对表现: {'优于行业平均' if company_avg_growth > industry_avg_growth else '低于行业平均'}\")"
   ]
  },
  {
   "cell_type": "markdown",
   "id": "cbc7995f-2a3c-465e-9114-a946df878757",
   "metadata": {},
   "source": [
    "# 建立GM(1,1)模型"
   ]
  },
  {
   "cell_type": "code",
   "execution_count": 128,
   "id": "eb8d147e-79a1-4358-9d80-41d2fbaf5759",
   "metadata": {},
   "outputs": [
    {
     "name": "stdout",
     "output_type": "stream",
     "text": [
      "\n",
      "🔧 开始建立GM(1,1)预测模型...\n",
      "\n",
      "📈 原始数据分析:\n",
      "数据序列: [1200. 1450. 1680. 1950. 2200. 2480. 2699.]\n",
      "数据长度: 7\n",
      "数据范围: [1200.00, 2699.00]\n",
      "增长倍数: 2.25\n",
      "📊 级比检验详细结果:\n",
      "检验边界: (0.2231, 4.4817)\n",
      "级比均值: 0.8741\n",
      "级比标准差: 0.0282\n",
      "级比序列: ['0.8276', '0.8631', '0.8615', '0.8864', '0.8871', '0.9189']\n",
      "检验结果: ✅ 通过\n",
      "\n",
      "🔄 累加生成序列: [ 1200.  2650.  4330.  6280.  8480. 10960. 13659.]\n",
      "均值序列Z(1): [ 1925.   3490.   5305.   7380.   9720.  12309.5]\n",
      "\n",
      "🎯 模型参数估计:\n",
      "发展系数 a = -0.121358\n",
      "灰作用量 b = 1264.8286\n",
      "矩阵条件数: 259917371.35\n",
      "📈 系统特征: 增长型\n",
      "增长强度: 0.1214\n"
     ]
    }
   ],
   "source": [
    "\n",
    "print(f\"\\n🔧 开始建立GM(1,1)预测模型...\")\n",
    "gm_sales = GM11()\n",
    "gm_sales.fit(sales_data)"
   ]
  },
  {
   "cell_type": "markdown",
   "id": "ad8a921e-3fe1-405d-88b6-9c3c143b114b",
   "metadata": {},
   "source": [
    "# 模型诊断"
   ]
  },
  {
   "cell_type": "code",
   "execution_count": null,
   "id": "3e2449c9-ed51-4360-9420-0369dfec3fe5",
   "metadata": {},
   "outputs": [],
   "source": []
  },
  {
   "cell_type": "code",
   "execution_count": 129,
   "id": "fd146c7c-057a-47a9-ad47-1465296161e2",
   "metadata": {},
   "outputs": [
    {
     "name": "stdout",
     "output_type": "stream",
     "text": [
      "\n",
      "🔍 进行模型精度检验...\n",
      "\n",
      "📊 模型精度检验结果:\n",
      "============================================================\n",
      "平均相对误差: 1.6784%\n",
      "MAPE: 1.6784%\n",
      "RMSE: 38.6299\n",
      "MAE: 34.0490\n",
      "最大误差: 3.4216%\n",
      "最小误差: 0.0000%\n",
      "误差标准差: 0.9903%\n",
      "方向精度: 100.00%\n",
      "精度等级: 二级（合格）\n",
      "============================================================\n"
     ]
    }
   ],
   "source": [
    "# 精度检验\n",
    "print(f\"\\n🔍 进行模型精度检验...\")\n",
    "metrics, fitted_values = gm_sales.accuracy_test(sales_data)"
   ]
  },
  {
   "cell_type": "code",
   "execution_count": 130,
   "id": "18858163-8ae8-470a-b082-4506d631faaf",
   "metadata": {},
   "outputs": [
    {
     "name": "stdout",
     "output_type": "stream",
     "text": [
      "\n",
      "🔬 敏感性分析 (扰动幅度: ±5.0%)\n",
      "📊 级比检验详细结果:\n",
      "检验边界: (0.2231, 4.4817)\n",
      "级比均值: 0.8810\n",
      "级比标准差: 0.0198\n",
      "级比序列: ['0.8690', '0.8631', '0.8615', '0.8864', '0.8871', '0.9189']\n",
      "检验结果: ✅ 通过\n",
      "📊 级比检验详细结果:\n",
      "检验边界: (0.2231, 4.4817)\n",
      "级比均值: 0.8672\n",
      "级比标准差: 0.0409\n",
      "级比序列: ['0.7862', '0.8631', '0.8615', '0.8864', '0.8871', '0.9189']\n",
      "检验结果: ✅ 通过\n",
      "数据点1的敏感性系数: 0.0000\n",
      "📊 级比检验详细结果:\n",
      "检验边界: (0.2231, 4.4817)\n",
      "级比均值: 0.8747\n",
      "级比标准差: 0.0426\n",
      "级比序列: ['0.7882', '0.9062', '0.8615', '0.8864', '0.8871', '0.9189']\n",
      "检验结果: ✅ 通过\n",
      "📊 级比检验详细结果:\n",
      "检验边界: (0.2231, 4.4817)\n",
      "级比均值: 0.8742\n",
      "级比标准差: 0.0301\n",
      "级比序列: ['0.8711', '0.8199', '0.8615', '0.8864', '0.8871', '0.9189']\n",
      "检验结果: ✅ 通过\n",
      "数据点2的敏感性系数: 0.2898\n",
      "📊 级比检验详细结果:\n",
      "检验边界: (0.2231, 4.4817)\n",
      "级比均值: 0.8744\n",
      "级比标准差: 0.0368\n",
      "级比序列: ['0.8276', '0.8220', '0.9046', '0.8864', '0.8871', '0.9189']\n",
      "检验结果: ✅ 通过\n",
      "📊 级比检验详细结果:\n",
      "检验边界: (0.2231, 4.4817)\n",
      "级比均值: 0.8745\n",
      "级比标准差: 0.0382\n",
      "级比序列: ['0.8276', '0.9085', '0.8185', '0.8864', '0.8871', '0.9189']\n",
      "检验结果: ✅ 通过\n",
      "数据点3的敏感性系数: 0.2229\n",
      "📊 级比检验详细结果:\n",
      "检验边界: (0.2231, 4.4817)\n",
      "级比均值: 0.8746\n",
      "级比标准差: 0.0419\n",
      "级比序列: ['0.8276', '0.8631', '0.8205', '0.9307', '0.8871', '0.9189']\n",
      "检验结果: ✅ 通过\n",
      "📊 级比检验详细结果:\n",
      "检验边界: (0.2231, 4.4817)\n",
      "级比均值: 0.8743\n",
      "级比标准差: 0.0331\n",
      "级比序列: ['0.8276', '0.8631', '0.9069', '0.8420', '0.8871', '0.9189']\n",
      "检验结果: ✅ 通过\n",
      "数据点4的敏感性系数: 0.0898\n",
      "📊 级比检验详细结果:\n",
      "检验边界: (0.2231, 4.4817)\n",
      "级比均值: 0.8744\n",
      "级比标准差: 0.0379\n",
      "级比序列: ['0.8276', '0.8631', '0.8615', '0.8442', '0.9315', '0.9189']\n",
      "检验结果: ✅ 通过\n",
      "📊 级比检验详细结果:\n",
      "检验边界: (0.2231, 4.4817)\n",
      "级比均值: 0.8745\n",
      "级比标准差: 0.0385\n",
      "级比序列: ['0.8276', '0.8631', '0.8615', '0.9330', '0.8427', '0.9189']\n",
      "检验结果: ✅ 通过\n",
      "数据点5的敏感性系数: 0.1388\n",
      "📊 级比检验详细结果:\n",
      "检验边界: (0.2231, 4.4817)\n",
      "级比均值: 0.8747\n",
      "级比标准差: 0.0441\n",
      "级比序列: ['0.8276', '0.8631', '0.8615', '0.8864', '0.8449', '0.9648']\n",
      "检验结果: ✅ 通过\n",
      "📊 级比检验详细结果:\n",
      "检验边界: (0.2231, 4.4817)\n",
      "级比均值: 0.8742\n",
      "级比标准差: 0.0320\n",
      "级比序列: ['0.8276', '0.8631', '0.8615', '0.8864', '0.9338', '0.8729']\n",
      "检验结果: ✅ 通过\n",
      "数据点6的敏感性系数: 0.4902\n",
      "📊 级比检验详细结果:\n",
      "检验边界: (0.2231, 4.4817)\n",
      "级比均值: 0.8668\n",
      "级比标准差: 0.0202\n",
      "级比序列: ['0.8276', '0.8631', '0.8615', '0.8864', '0.8871', '0.8751']\n",
      "检验结果: ✅ 通过\n",
      "📊 级比检验详细结果:\n",
      "检验边界: (0.2231, 4.4817)\n",
      "级比均值: 0.8822\n",
      "级比标准差: 0.0429\n",
      "级比序列: ['0.8276', '0.8631', '0.8615', '0.8864', '0.8871', '0.9672']\n",
      "检验结果: ✅ 通过\n",
      "数据点7的敏感性系数: 0.9735\n"
     ]
    }
   ],
   "source": [
    "# 敏感性分析\n",
    "sensitivity_results = gm_sales.sensitivity_analysis(sales_data)"
   ]
  },
  {
   "cell_type": "code",
   "execution_count": 131,
   "id": "b79fb921-1c6c-4e32-861a-f8be1de1887b",
   "metadata": {},
   "outputs": [
    {
     "name": "stdout",
     "output_type": "stream",
     "text": [
      "\n",
      "🔮 预测未来3年销售额...\n"
     ]
    }
   ],
   "source": [
    "# 预测未来3年\n",
    "print(f\"\\n🔮 预测未来3年销售额...\")\n",
    "future_predictions = gm_sales.predict(3)\n",
    "future_years = list(range(2024, 2027))\n",
    "predicted_values = future_predictions[len(sales_data):]"
   ]
  },
  {
   "cell_type": "code",
   "execution_count": 132,
   "id": "8a8de040-c25d-406e-81b7-ebc90d4abecb",
   "metadata": {},
   "outputs": [
    {
     "name": "stdout",
     "output_type": "stream",
     "text": [
      "\n",
      "📊 预测置信区间估计:\n",
      "2024年预测: 3106万元 [95%CI: 3046 - 3166万元]\n",
      "2025年预测: 3507万元 [95%CI: 3439 - 3575万元]\n",
      "2026年预测: 3959万元 [95%CI: 3882 - 4036万元]\n"
     ]
    }
   ],
   "source": [
    "# 置信区间估计（简单方法）\n",
    "print(f\"\\n📊 预测置信区间估计:\")\n",
    "prediction_std = np.std([abs(sales_data[i] - fitted_values[i])/sales_data[i] for i in range(len(sales_data))])\n",
    "confidence_level = 0.95\n",
    "z_score = 1.96  # 95%置信区间\n",
    "\n",
    "for i, (year, pred_value) in enumerate(zip(future_years, predicted_values)):\n",
    "    lower_bound = pred_value * (1 - z_score * prediction_std)\n",
    "    upper_bound = pred_value * (1 + z_score * prediction_std)\n",
    "    print(f\"{year}年预测: {pred_value:.0f}万元 [95%CI: {lower_bound:.0f} - {upper_bound:.0f}万元]\")"
   ]
  },
  {
   "cell_type": "code",
   "execution_count": 133,
   "id": "f5a96d04-f3ea-49ae-8d7b-a3cb86e29fa7",
   "metadata": {},
   "outputs": [
    {
     "name": "stdout",
     "output_type": "stream",
     "text": [
      "\n",
      "📋 完整预测结果:\n",
      "====================================================================================================\n",
      "年份    类型      销售额(万元)     增长额(万元)     增长率(%)      累计增长(%)       说明                  \n",
      "----------------------------------------------------------------------------------------------------\n",
      "2018  实际      1200        0           0.00        0.00          历史数据                \n",
      "2019  实际      1450        250         20.83       20.83         历史数据                \n",
      "2020  实际      1680        230         15.86       40.00         历史数据                \n",
      "2021  实际      1950        270         16.07       62.50         历史数据                \n",
      "2022  实际      2200        250         12.82       83.33         历史数据                \n",
      "2023  实际      2480        280         12.73       106.67        历史数据                \n",
      "2024  实际      2699        219         8.83        124.92        历史数据                \n",
      "2024  预测      3106        407         15.08       158.84        模型预测                \n",
      "2025  预测      3507        401         12.90       192.24        模型预测                \n",
      "2026  预测      3959        452         12.90       229.94        模型预测                \n",
      "====================================================================================================\n"
     ]
    }
   ],
   "source": [
    "# 详细结果展示\n",
    "print(f\"\\n📋 完整预测结果:\")\n",
    "print(\"=\" * 100)\n",
    "print(f\"{'年份':<6}{'类型':<8}{'销售额(万元)':<12}{'增长额(万元)':<12}{'增长率(%)':<12}{'累计增长(%)':<14}{'说明':<20}\")\n",
    "print(\"-\" * 100)\n",
    "\n",
    "base_value = sales_data[0]\n",
    "for i, year in enumerate(years):\n",
    "    growth_amount = 0 if i == 0 else (sales_data[i] - sales_data[i-1])\n",
    "    growth_rate = 0 if i == 0 else ((sales_data[i]/sales_data[i-1] - 1) * 100)\n",
    "    cumulative_growth = ((sales_data[i]/base_value - 1) * 100)\n",
    "    print(f\"{year:<6}{'实际':<8}{sales_data[i]:<12.0f}{growth_amount:<12.0f}{growth_rate:<12.2f}{cumulative_growth:<14.2f}{'历史数据':<20}\")\n",
    "\n",
    "for i, year in enumerate(future_years):\n",
    "    prev_value = sales_data[-1] if i == 0 else predicted_values[i-1]\n",
    "    growth_amount = predicted_values[i] - prev_value\n",
    "    growth_rate = (growth_amount / prev_value) * 100\n",
    "    cumulative_growth = ((predicted_values[i]/base_value - 1) * 100)\n",
    "    print(f\"{year:<6}{'预测':<8}{predicted_values[i]:<12.0f}{growth_amount:<12.0f}{growth_rate:<12.2f}{cumulative_growth:<14.2f}{'模型预测':<20}\")\n",
    "\n",
    "print(\"=\" * 100)"
   ]
  },
  {
   "cell_type": "markdown",
   "id": "c1d7c178-7778-4a4e-a9bc-fca2f69da28d",
   "metadata": {},
   "source": [
    "# 商业价值分析"
   ]
  },
  {
   "cell_type": "code",
   "execution_count": 134,
   "id": "8e638440-80c8-46ca-b14e-ff208bb4666b",
   "metadata": {},
   "outputs": [
    {
     "name": "stdout",
     "output_type": "stream",
     "text": [
      "\n",
      "💼 商业价值分析:\n",
      "• 预测期总销售额: 10572万元\n",
      "• 历史期总销售额: 13659万元\n",
      "• 三年增长总额: 1260万元\n",
      "• 预测期年均销售额: 3524万元\n"
     ]
    }
   ],
   "source": [
    "\n",
    "print(f\"\\n💼 商业价值分析:\")\n",
    "total_predicted_sales = sum(predicted_values)\n",
    "total_historical_sales = sum(sales_data)\n",
    "print(f\"• 预测期总销售额: {total_predicted_sales:.0f}万元\")\n",
    "print(f\"• 历史期总销售额: {total_historical_sales:.0f}万元\")\n",
    "print(f\"• 三年增长总额: {predicted_values[-1] - sales_data[-1]:.0f}万元\")\n",
    "print(f\"• 预测期年均销售额: {np.mean(predicted_values):.0f}万元\")"
   ]
  },
  {
   "cell_type": "markdown",
   "id": "02a2dd8a-5dfe-495c-8c55-fb4dec8f4271",
   "metadata": {},
   "source": [
    "# 假设利润率为15%进行收益预估"
   ]
  },
  {
   "cell_type": "code",
   "execution_count": 135,
   "id": "5431ac94-cfd9-404a-8a8a-fa346d1ed889",
   "metadata": {},
   "outputs": [
    {
     "name": "stdout",
     "output_type": "stream",
     "text": [
      "• 预测期总利润(按15%利润率): 1586万元\n"
     ]
    }
   ],
   "source": [
    "profit_margin = 0.15\n",
    "predicted_profit = [value * profit_margin for value in predicted_values]\n",
    "print(f\"• 预测期总利润(按15%利润率): {sum(predicted_profit):.0f}万元\")"
   ]
  },
  {
   "cell_type": "markdown",
   "id": "a129952b-0365-4530-9c7c-3b6558f4c33e",
   "metadata": {},
   "source": [
    "# 风险评估"
   ]
  },
  {
   "cell_type": "code",
   "execution_count": 136,
   "id": "4a90831f-7e1b-4f01-8e46-f2f144b76cc4",
   "metadata": {},
   "outputs": [
    {
     "name": "stdout",
     "output_type": "stream",
     "text": [
      "\n",
      "⚠️  风险评估:\n",
      "• 模型对数据变化敏感\n"
     ]
    }
   ],
   "source": [
    "\n",
    "print(f\"\\n⚠️  风险评估:\")\n",
    "risk_factors = []\n",
    "if metrics['mean_relative_error'] > 5:\n",
    "    risk_factors.append(\"预测精度较低\")\n",
    "if max(sensitivity_results) > 0.5:\n",
    "    risk_factors.append(\"模型对数据变化敏感\")\n",
    "if abs(gm_sales.a) < 0.01:\n",
    "    risk_factors.append(\"增长趋势可能放缓\")\n",
    "\n",
    "if risk_factors:\n",
    "    for factor in risk_factors:\n",
    "        print(f\"• {factor}\")\n",
    "else:\n",
    "    print(\"• 模型风险较低，预测结果相对可靠\")"
   ]
  },
  {
   "cell_type": "markdown",
   "id": "bf88d5ec-9117-433c-aa7b-5d79994bbabc",
   "metadata": {},
   "source": [
    "# 综合可视化分析"
   ]
  },
  {
   "cell_type": "code",
   "execution_count": 137,
   "id": "1bdc50b6-8ae5-41d0-af44-992ffe698f9a",
   "metadata": {},
   "outputs": [
    {
     "name": "stdout",
     "output_type": "stream",
     "text": [
      "\n",
      "📊 生成综合分析图表...\n"
     ]
    },
    {
     "data": {
      "image/png": "[encoded data removed]",
      "text/plain": [
       "<Figure size 1800x1200 with 6 Axes>"
      ]
     },
     "metadata": {},
     "output_type": "display_data"
    }
   ],
   "source": [
    "\n",
    "print(f\"\\n📊 生成综合分析图表...\")\n",
    "gm_sales.plot_comprehensive_analysis(sales_data, years, future_years, predicted_values, \n",
    "                                   \"Comprehensive analysis of sales forecasts for a technology company\")"
   ]
  },
  {
   "cell_type": "markdown",
   "id": "92715ed6-5a69-4193-93e0-750d5cc3097e",
   "metadata": {},
   "source": [
    "# 模型比较（与简单线性趋势对比）"
   ]
  },
  {
   "cell_type": "code",
   "execution_count": 138,
   "id": "2a35f382-b97f-45f2-a1d2-66e7bfdfe264",
   "metadata": {},
   "outputs": [
    {
     "name": "stdout",
     "output_type": "stream",
     "text": [
      "\n",
      "📈 模型对比分析:\n",
      "GM(1,1) vs 线性趋势预测比较\n"
     ]
    }
   ],
   "source": [
    "\n",
    "print(f\"\\n📈 模型对比分析:\")\n",
    "print(\"GM(1,1) vs 线性趋势预测比较\")"
   ]
  },
  {
   "cell_type": "markdown",
   "id": "c02911c7-b72b-4a9e-a96c-a346bb0344e7",
   "metadata": {},
   "source": [
    "# 简单线性回归预测"
   ]
  },
  {
   "cell_type": "code",
   "execution_count": 139,
   "id": "499a9f24-e0ff-4168-b060-15bec243e03d",
   "metadata": {},
   "outputs": [],
   "source": [
    "\n",
    "from sklearn.linear_model import LinearRegression\n",
    "X_linear = np.array(range(len(sales_data))).reshape(-1, 1)\n",
    "y_linear = np.array(sales_data)\n",
    "linear_model = LinearRegression().fit(X_linear, y_linear)"
   ]
  },
  {
   "cell_type": "markdown",
   "id": "ab8e23ec-0404-4e9e-89c9-0c5e3017162a",
   "metadata": {},
   "source": [
    "# 线性模型预测"
   ]
  },
  {
   "cell_type": "code",
   "execution_count": 140,
   "id": "443a03ee-baef-44ea-aa0e-252f2ac3bb47",
   "metadata": {},
   "outputs": [],
   "source": [
    "\n",
    "X_future = np.array(range(len(sales_data), len(sales_data) + 3)).reshape(-1, 1)\n",
    "linear_predictions = linear_model.predict(X_future)"
   ]
  },
  {
   "cell_type": "code",
   "execution_count": 141,
   "id": "c3b062ac-8219-4773-9f50-aca9cc278ccf",
   "metadata": {},
   "outputs": [
    {
     "name": "stdout",
     "output_type": "stream",
     "text": [
      "年份      GM(1,1)预测      线性预测           差异        差异率(%)      \n",
      "-----------------------------------------------------------------\n",
      "2024    3106           2962           144       4.85        \n",
      "2025    3507           3215           292       9.08        \n",
      "2026    3959           3468           492       14.17       \n"
     ]
    }
   ],
   "source": [
    "print(f\"{'年份':<8}{'GM(1,1)预测':<15}{'线性预测':<15}{'差异':<10}{'差异率(%)':<12}\")\n",
    "print(\"-\" * 65)\n",
    "for i, year in enumerate(future_years):\n",
    "    diff = predicted_values[i] - linear_predictions[i]\n",
    "    diff_rate = (diff / linear_predictions[i]) * 100\n",
    "    print(f\"{year:<8}{predicted_values[i]:<15.0f}{linear_predictions[i]:<15.0f}{diff:<10.0f}{diff_rate:<12.2f}\")"
   ]
  },
  {
   "cell_type": "markdown",
   "id": "4a878724-3504-4368-8cde-78776579826b",
   "metadata": {},
   "source": [
    "# 建议与总结"
   ]
  },
  {
   "cell_type": "code",
   "execution_count": 142,
   "id": "d161f8c3-767d-41d4-a0da-6bda3191c89c",
   "metadata": {},
   "outputs": [
    {
     "name": "stdout",
     "output_type": "stream",
     "text": [
      "\n",
      "💡 建议与总结:\n",
      "1. 模型适用性: GM(1,1)模型精度为二级（合格），适合该企业销售预测\n",
      "2. 预测趋势: 企业销售额将继续保持稳定增长态势\n",
      "3. 增长预期: 预计2024-2026年年均增长率约13.6%\n",
      "4. 战略建议: 基于预测结果制定产能规划和市场拓展策略\n",
      "5. 监控要点: 定期更新模型，关注实际销售与预测的偏差\n"
     ]
    }
   ],
   "source": [
    "\n",
    "print(f\"\\n💡 建议与总结:\")\n",
    "print(f\"1. 模型适用性: GM(1,1)模型精度为{metrics['grade']}，适合该企业销售预测\")\n",
    "print(f\"2. 预测趋势: 企业销售额将继续保持稳定增长态势\")\n",
    "print(f\"3. 增长预期: 预计2024-2026年年均增长率约{np.mean([((predicted_values[i]/sales_data[-1] if i==0 else predicted_values[i]/predicted_values[i-1]) - 1)*100 for i in range(len(predicted_values))]):.1f}%\")\n",
    "print(f\"4. 战略建议: 基于预测结果制定产能规划和市场拓展策略\")\n",
    "print(f\"5. 监控要点: 定期更新模型，关注实际销售与预测的偏差\")"
   ]
  },
  {
   "cell_type": "markdown",
   "id": "a38e633d-b74d-4efa-8632-9d58130401d6",
   "metadata": {},
   "source": [
    "# 假设场景分析"
   ]
  },
  {
   "cell_type": "code",
   "execution_count": 143,
   "id": "846d4d1e-8251-4f59-95a9-7fc0f754e195",
   "metadata": {},
   "outputs": [
    {
     "name": "stdout",
     "output_type": "stream",
     "text": [
      "\n",
      "🎲 情景分析:\n",
      "情景        2024年     2025年     2026年     三年总额        \n",
      "-------------------------------------------------------\n",
      "乐观情景      3417      3858      4355      11629       \n",
      "基准情景      3106      3507      3959      10572       \n",
      "悲观情景      2795      3156      3563      9515        \n",
      "\n",
      "============================================================\n",
      "案例二：企业销售额预测 - 分析完成！\n",
      "============================================================\n"
     ]
    }
   ],
   "source": [
    "\n",
    "print(f\"\\n🎲 情景分析:\")\n",
    "scenarios = {\n",
    "    \"乐观情景\": 1.1,  # 预测值上调10%\n",
    "    \"基准情景\": 1.0,  # 预测值不变\n",
    "    \"悲观情景\": 0.9   # 预测值下调10%\n",
    "}\n",
    "\n",
    "print(f\"{'情景':<10}{'2024年':<10}{'2025年':<10}{'2026年':<10}{'三年总额':<12}\")\n",
    "print(\"-\" * 55)\n",
    "for scenario, factor in scenarios.items():\n",
    "    scenario_values = [value * factor for value in predicted_values]\n",
    "    total = sum(scenario_values)\n",
    "    print(f\"{scenario:<10}{scenario_values[0]:<10.0f}{scenario_values[1]:<10.0f}{scenario_values[2]:<10.0f}{total:<12.0f}\")\n",
    "\n",
    "print(f\"\\n\" + \"=\"*60)\n",
    "print(\"案例二：企业销售额预测 - 分析完成！\")\n",
    "print(\"=\"*60)"
   ]
  },
  {
   "cell_type": "code",
   "execution_count": null,
   "id": "c9779c89-513c-4fa0-95c6-947d8d63d594",
   "metadata": {},
   "outputs": [],
   "source": []
  },
  {
   "cell_type": "code",
   "execution_count": 144,
   "id": "1bf2b185-eaef-4d4d-b29f-1c0e2ebb8a11",
   "metadata": {},
   "outputs": [],
   "source": [
    "# # 导出结果到CSV（可选）\n",
    "# print(f\"\\n💾 导出预测结果...\")\n",
    "# result_df = pd.DataFrame({\n",
    "#     '年份': years + future_years,\n",
    "#     '类型': ['实际值']*len(years) + ['预测值']*len(future_years),\n",
    "#     '销售额(万元)': list(sales_data) + list(predicted_values),\n",
    "#     '拟合值(万元)': list(fitted_values) + ['N/A']*len(future_years)\n",
    "# })\n",
    "\n",
    "# print(\"预测结果表:\")\n",
    "# print(result_df.to_string(index=False))\n",
    "# print(\"\\n提示：可使用 result_df.to_csv('销售额预测结果.csv', index=False) 导出到文件\")"
   ]
  },
  {
   "cell_type": "code",
   "execution_count": null,
   "id": "6e993060-c515-47e6-b66d-c4654f7d8688",
   "metadata": {},
   "outputs": [],
   "source": []
  }
 ],
 "metadata": {
  "kernelspec": {
   "display_name": "math",
   "language": "python",
   "name": "python3"
  },
  "language_info": {
   "codemirror_mode": {
    "name": "ipython",
    "version": 3
   },
   "file_extension": ".py",
   "mimetype": "text/x-python",
   "name": "python",
   "nbconvert_exporter": "python",
   "pygments_lexer": "ipython3",
   "version": "3.12.11"
  }
 },
 "nbformat": 4,
 "nbformat_minor": 5
}
