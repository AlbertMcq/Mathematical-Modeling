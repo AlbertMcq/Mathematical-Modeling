{
 "cells": [
  {
   "cell_type": "markdown",
   "id": "80fb1bc6-eef4-432d-a17a-1ebab9ce754e",
   "metadata": {},
   "source": [
    "# 马尔可夫链天气预测系统\n",
    "# 案例1：使用马尔可夫链预测未来天气"
   ]
  },
  {
   "cell_type": "code",
   "execution_count": 1,
   "id": "27a577dc-6629-4168-a806-b128df7ddbc2",
   "metadata": {},
   "outputs": [],
   "source": [
    "import numpy as np\n",
    "import pandas as pd\n",
    "from sklearn.preprocessing import LabelEncoder\n",
    "import matplotlib.pyplot as plt\n",
    "import seaborn as sns\n",
    "\n",
    "# 设置中文显示\n",
    "plt.rcParams['font.sans-serif'] = ['SimHei']\n",
    "plt.rcParams['axes.unicode_minus'] = False"
   ]
  },
  {
   "cell_type": "markdown",
   "id": "89978038-4bbe-46cc-8484-a98d71a40c06",
   "metadata": {},
   "source": [
    "# 1. 生成模拟天气数据"
   ]
  },
  {
   "cell_type": "code",
   "execution_count": 2,
   "id": "596b89fa-5b6c-4218-aa5a-717e78b10591",
   "metadata": {},
   "outputs": [],
   "source": [
    "np.random.seed(42)\n",
    "# 定义天气状态\n",
    "weather_states = ['晴天', '阴天', '雨天']\n",
    "n_states = len(weather_states)\n",
    "\n",
    "# 定义真实的转移概率矩阵\n",
    "true_transition_matrix = np.array([\n",
    "    [0.7, 0.2, 0.1],  # 晴天 -> [晴天, 阴天, 雨天]\n",
    "    [0.3, 0.4, 0.3],  # 阴天 -> [晴天, 阴天, 雨天]\n",
    "    [0.2, 0.3, 0.5]   # 雨天 -> [晴天, 阴天, 雨天]\n",
    "])"
   ]
  },
  {
   "cell_type": "markdown",
   "id": "b169e89e-dcc2-4008-bbb6-70e14b92bf38",
   "metadata": {},
   "source": [
    "# 生成天气序列"
   ]
  },
  {
   "cell_type": "code",
   "execution_count": 3,
   "id": "a3c6362f-588d-4e9e-946c-d3f608bd6a43",
   "metadata": {},
   "outputs": [],
   "source": [
    "\n",
    "def generate_weather_sequence(n_days, initial_state=0):\n",
    "    \"\"\"生成n天的天气序列\"\"\"\n",
    "    sequence = [initial_state]\n",
    "    current_state = initial_state\n",
    "    \n",
    "    for _ in range(n_days - 1):\n",
    "        # 根据当前状态和转移概率选择下一个状态\n",
    "        next_state = np.random.choice(\n",
    "            n_states, \n",
    "            p=true_transition_matrix[current_state]\n",
    "        )\n",
    "        sequence.append(next_state)\n",
    "        current_state = next_state\n",
    "    \n",
    "    return sequence"
   ]
  },
  {
   "cell_type": "code",
   "execution_count": 4,
   "id": "f090a0b7-1442-4bee-8b67-ce56e791b135",
   "metadata": {},
   "outputs": [
    {
     "name": "stdout",
     "output_type": "stream",
     "text": [
      "历史天气数据（前10天）：\n",
      "          日期 天气状态  状态编码\n",
      "0 2025-01-01   晴天     0\n",
      "1 2025-01-02   晴天     0\n",
      "2 2025-01-03   雨天     2\n",
      "3 2025-01-04   雨天     2\n",
      "4 2025-01-05   雨天     2\n",
      "5 2025-01-06   晴天     0\n",
      "6 2025-01-07   晴天     0\n",
      "7 2025-01-08   晴天     0\n",
      "8 2025-01-09   阴天     1\n",
      "9 2025-01-10   阴天     1\n",
      "\n",
      "数据形状：(30, 3)\n"
     ]
    }
   ],
   "source": [
    "# 生成30天的历史数据\n",
    "historical_days = 30\n",
    "weather_sequence = generate_weather_sequence(historical_days)\n",
    "weather_names = [weather_states[i] for i in weather_sequence]\n",
    "\n",
    "# 创建数据框\n",
    "df = pd.DataFrame({\n",
    "    '日期': pd.date_range('2025-01-01', periods=historical_days),\n",
    "    '天气状态': weather_names,\n",
    "    '状态编码': weather_sequence\n",
    "})\n",
    "\n",
    "print(\"历史天气数据（前10天）：\")\n",
    "print(df.head(10))\n",
    "print(f\"\\n数据形状：{df.shape}\")"
   ]
  },
  {
   "cell_type": "markdown",
   "id": "2e72ecdc-72af-4513-bd92-5e9fce73a113",
   "metadata": {},
   "source": [
    "# 2. 估计转移概率矩阵"
   ]
  },
  {
   "cell_type": "code",
   "execution_count": 5,
   "id": "9a7d06f2-52bd-42e0-9b76-8e3ea193cede",
   "metadata": {},
   "outputs": [],
   "source": [
    "\n",
    "def estimate_transition_matrix(sequence):\n",
    "    \"\"\"从观察序列估计转移概率矩阵\"\"\"\n",
    "    n_states = len(set(sequence))\n",
    "    transition_counts = np.zeros((n_states, n_states))\n",
    "    \n",
    "    # 统计转移次数\n",
    "    for i in range(len(sequence) - 1):\n",
    "        current_state = sequence[i]\n",
    "        next_state = sequence[i + 1]\n",
    "        transition_counts[current_state, next_state] += 1\n",
    "    \n",
    "    # 计算转移概率\n",
    "    transition_matrix = np.zeros((n_states, n_states))\n",
    "    for i in range(n_states):\n",
    "        row_sum = transition_counts[i].sum()\n",
    "        if row_sum > 0:\n",
    "            transition_matrix[i] = transition_counts[i] / row_sum\n",
    "        else:\n",
    "            # 如果某个状态没有出现，使用均匀分布\n",
    "            transition_matrix[i] = 1.0 / n_states\n",
    "    \n",
    "    return transition_matrix, transition_counts"
   ]
  },
  {
   "cell_type": "markdown",
   "id": "6da1f1a2-d8c0-48ae-89fa-e68e48312d84",
   "metadata": {},
   "source": [
    "# 估计转移概率矩阵"
   ]
  },
  {
   "cell_type": "code",
   "execution_count": 6,
   "id": "924ebedb-6e58-4e43-9950-1fecacfbe12d",
   "metadata": {},
   "outputs": [
    {
     "name": "stdout",
     "output_type": "stream",
     "text": [
      "\n",
      "转移次数矩阵：\n",
      "      晴天   阴天   雨天\n",
      "晴天  15.0  2.0  2.0\n",
      "阴天   2.0  1.0  1.0\n",
      "雨天   2.0  1.0  3.0\n",
      "\n",
      "估计的转移概率矩阵：\n",
      "       晴天     阴天     雨天\n",
      "晴天  0.789  0.105  0.105\n",
      "阴天  0.500  0.250  0.250\n",
      "雨天  0.333  0.167  0.500\n"
     ]
    }
   ],
   "source": [
    "estimated_matrix, counts_matrix = estimate_transition_matrix(weather_sequence)\n",
    "\n",
    "print(\"\\n转移次数矩阵：\")\n",
    "counts_df = pd.DataFrame(\n",
    "    counts_matrix,\n",
    "    index=weather_states,\n",
    "    columns=weather_states\n",
    ")\n",
    "print(counts_df)\n",
    "\n",
    "print(\"\\n估计的转移概率矩阵：\")\n",
    "prob_df = pd.DataFrame(\n",
    "    estimated_matrix,\n",
    "    index=weather_states,\n",
    "    columns=weather_states\n",
    ")\n",
    "print(prob_df.round(3))"
   ]
  },
  {
   "cell_type": "markdown",
   "id": "6281e79c-5582-4dc8-98d2-9330332e3d50",
   "metadata": {},
   "source": [
    "# 3. 可视化转移概率矩阵"
   ]
  },
  {
   "cell_type": "code",
   "execution_count": 7,
   "id": "5735a354-f0d7-46d6-a513-a07ea7c15299",
   "metadata": {},
   "outputs": [
    {
     "data": {
      "text/plain": [
       "Text(0.5, 1.0, '状态转移图')"
      ]
     },
     "execution_count": 7,
     "metadata": {},
     "output_type": "execute_result"
    },
    {
     "data": {
      "image/png": "[encoded data removed]",
      "text/plain": [
       "<Figure size 1000x800 with 3 Axes>"
      ]
     },
     "metadata": {},
     "output_type": "display_data"
    }
   ],
   "source": [
    "plt.figure(figsize=(10, 8))\n",
    "\n",
    "# 子图1：热力图\n",
    "plt.subplot(2, 2, 1)\n",
    "sns.heatmap(estimated_matrix, annot=True, fmt='.3f', \n",
    "            xticklabels=weather_states, yticklabels=weather_states,\n",
    "            cmap='Blues', cbar_kws={'label': '转移概率'})\n",
    "plt.title('估计的转移概率矩阵')\n",
    "\n",
    "# 子图2：状态转移图（简化版）\n",
    "plt.subplot(2, 2, 2)\n",
    "G = np.zeros((n_states, n_states))\n",
    "for i in range(n_states):\n",
    "    for j in range(n_states):\n",
    "        if estimated_matrix[i, j] > 0.1:  # 只显示概率>0.1的转移\n",
    "            G[i, j] = estimated_matrix[i, j]\n",
    "\n",
    "pos = {0: (0, 1), 1: (1, 1), 2: (0.5, 0)}  # 节点位置\n",
    "for i in range(n_states):\n",
    "    plt.scatter(pos[i][0], pos[i][1], s=1000, c='lightblue', \n",
    "                edgecolors='black', linewidth=2)\n",
    "    plt.text(pos[i][0], pos[i][1], weather_states[i], \n",
    "             ha='center', va='center', fontsize=12)\n",
    "\n",
    "# 绘制箭头\n",
    "for i in range(n_states):\n",
    "    for j in range(n_states):\n",
    "        if G[i, j] > 0:\n",
    "            if i != j:\n",
    "                plt.annotate('', xy=pos[j], xytext=pos[i],\n",
    "                           arrowprops=dict(arrowstyle='->', lw=2,\n",
    "                                         color='gray', alpha=0.7))\n",
    "                # 添加概率标签\n",
    "                mid_x = (pos[i][0] + pos[j][0]) / 2\n",
    "                mid_y = (pos[i][1] + pos[j][1]) / 2\n",
    "                plt.text(mid_x, mid_y, f'{G[i,j]:.2f}', \n",
    "                        ha='center', va='center', fontsize=10,\n",
    "                        bbox=dict(boxstyle='round,pad=0.3', \n",
    "                                facecolor='white', alpha=0.8))\n",
    "\n",
    "plt.xlim(-0.5, 1.5)\n",
    "plt.ylim(-0.5, 1.5)\n",
    "plt.axis('off')\n",
    "plt.title('状态转移图')"
   ]
  },
  {
   "cell_type": "markdown",
   "id": "cc31a87d-092b-40dd-8cee-f3e78b9e2f9b",
   "metadata": {},
   "source": [
    "# 4. 天气预测"
   ]
  },
  {
   "cell_type": "code",
   "execution_count": 8,
   "id": "579413d9-fb01-42d4-bb92-c246cf471482",
   "metadata": {},
   "outputs": [],
   "source": [
    "def predict_weather(current_state, transition_matrix, n_days):\n",
    "    \"\"\"预测未来n天的天气\"\"\"\n",
    "    predictions = []\n",
    "    state_probs = []\n",
    "    \n",
    "    # 初始状态概率向量\n",
    "    current_prob = np.zeros(len(weather_states))\n",
    "    current_prob[current_state] = 1.0\n",
    "    \n",
    "    for day in range(n_days):\n",
    "        # 计算下一天的状态概率\n",
    "        current_prob = current_prob @ transition_matrix\n",
    "        state_probs.append(current_prob.copy())\n",
    "        \n",
    "        # 选择最可能的状态作为预测\n",
    "        predicted_state = np.argmax(current_prob)\n",
    "        predictions.append(predicted_state)\n",
    "    \n",
    "    return predictions, state_probs"
   ]
  },
  {
   "cell_type": "markdown",
   "id": "3d6bf716-6a3b-49aa-8148-16b83c42568c",
   "metadata": {},
   "source": [
    "# 预测未来7天的天气"
   ]
  },
  {
   "cell_type": "code",
   "execution_count": 9,
   "id": "9262a607-c891-417f-9c71-cbd62fedc3ed",
   "metadata": {},
   "outputs": [
    {
     "name": "stdout",
     "output_type": "stream",
     "text": [
      "\n",
      "未来7天天气预测：\n",
      "        预测日期 预测天气   晴天概率   阴天概率   雨天概率\n",
      "0 2025-01-31   晴天  0.789  0.105  0.105\n",
      "1 2025-02-01   晴天  0.711  0.127  0.162\n",
      "2 2025-02-02   晴天  0.679  0.134  0.188\n",
      "3 2025-02-03   晴天  0.665  0.136  0.199\n",
      "4 2025-02-04   晴天  0.659  0.137  0.203\n",
      "5 2025-02-05   晴天  0.657  0.138  0.205\n",
      "6 2025-02-06   晴天  0.656  0.138  0.206\n"
     ]
    }
   ],
   "source": [
    "current_weather = weather_sequence[-1]  # 使用最后一天的天气作为当前状态\n",
    "forecast_days = 7\n",
    "predictions, probabilities = predict_weather(current_weather, estimated_matrix, forecast_days)\n",
    "\n",
    "# 创建预测结果数据框\n",
    "forecast_df = pd.DataFrame({\n",
    "    '预测日期': pd.date_range(df['日期'].iloc[-1] + pd.Timedelta(days=1), \n",
    "                           periods=forecast_days),\n",
    "    '预测天气': [weather_states[i] for i in predictions],\n",
    "    '晴天概率': [p[0] for p in probabilities],\n",
    "    '阴天概率': [p[1] for p in probabilities],\n",
    "    '雨天概率': [p[2] for p in probabilities]\n",
    "})\n",
    "\n",
    "print(\"\\n未来7天天气预测：\")\n",
    "print(forecast_df.round(3))"
   ]
  },
  {
   "cell_type": "code",
   "execution_count": 10,
   "id": "6022a80d-b96e-49c7-bca1-98cc629a053d",
   "metadata": {},
   "outputs": [
    {
     "data": {
      "image/png": "[encoded data removed]",
      "text/plain": [
       "<Figure size 640x480 with 1 Axes>"
      ]
     },
     "metadata": {},
     "output_type": "display_data"
    }
   ],
   "source": [
    "# 子图3：预测概率变化\n",
    "plt.subplot(2, 2, 3)\n",
    "days = range(1, forecast_days + 1)\n",
    "for i, state in enumerate(weather_states):\n",
    "    probs = [p[i] for p in probabilities]\n",
    "    plt.plot(days, probs, marker='o', label=state, linewidth=2)\n",
    "\n",
    "plt.xlabel('预测天数')\n",
    "plt.ylabel('概率')\n",
    "plt.title('未来天气状态概率变化')\n",
    "plt.legend()\n",
    "plt.grid(True, alpha=0.3)"
   ]
  },
  {
   "cell_type": "markdown",
   "id": "b65bf8ab-2b39-45e7-be9e-f7b3e1cd025e",
   "metadata": {},
   "source": [
    "# 5. 计算稳态分布"
   ]
  },
  {
   "cell_type": "code",
   "execution_count": 11,
   "id": "9f557a5d-55f3-4c1a-83b4-af5bc28809b1",
   "metadata": {},
   "outputs": [
    {
     "name": "stdout",
     "output_type": "stream",
     "text": [
      "\n",
      "稳态分布：\n",
      "晴天: 0.655\n",
      "阴天: 0.138\n",
      "雨天: 0.207\n"
     ]
    }
   ],
   "source": [
    "\n",
    "def compute_steady_state(transition_matrix):\n",
    "    \"\"\"计算马尔可夫链的稳态分布\"\"\"\n",
    "    # 求解 π = π * P\n",
    "    # 等价于求解 (P^T - I)π = 0, 且 sum(π) = 1\n",
    "    n = transition_matrix.shape[0]\n",
    "    A = transition_matrix.T - np.eye(n)\n",
    "    A = np.vstack([A, np.ones(n)])\n",
    "    b = np.zeros(n + 1)\n",
    "    b[-1] = 1\n",
    "    \n",
    "    # 使用最小二乘法求解\n",
    "    steady_state = np.linalg.lstsq(A, b, rcond=None)[0]\n",
    "    return steady_state\n",
    "\n",
    "steady_state = compute_steady_state(estimated_matrix)\n",
    "\n",
    "print(\"\\n稳态分布：\")\n",
    "for i, state in enumerate(weather_states):\n",
    "    print(f\"{state}: {steady_state[i]:.3f}\")"
   ]
  },
  {
   "cell_type": "markdown",
   "id": "ff06282f-a265-4e3f-b1f3-479a3945118a",
   "metadata": {},
   "source": [
    "# 子图4：长期预测vs稳态"
   ]
  },
  {
   "cell_type": "code",
   "execution_count": 12,
   "id": "b4a3bb44-0825-429f-bee6-4446f79706ac",
   "metadata": {},
   "outputs": [
    {
     "data": {
      "image/png": "[encoded data removed]",
      "text/plain": [
       "<Figure size 640x480 with 1 Axes>"
      ]
     },
     "metadata": {},
     "output_type": "display_data"
    }
   ],
   "source": [
    "\n",
    "plt.subplot(2, 2, 4)\n",
    "long_term_days = 30\n",
    "_, long_term_probs = predict_weather(current_weather, estimated_matrix, long_term_days)\n",
    "\n",
    "for i, state in enumerate(weather_states):\n",
    "    probs = [p[i] for p in long_term_probs]\n",
    "    plt.plot(range(1, long_term_days + 1), probs, label=f'{state}')\n",
    "    plt.axhline(y=steady_state[i], color='gray', linestyle='--', alpha=0.5)\n",
    "\n",
    "plt.xlabel('预测天数')\n",
    "plt.ylabel('概率')\n",
    "plt.title('长期预测收敛到稳态分布')\n",
    "plt.legend()\n",
    "plt.grid(True, alpha=0.3)\n",
    "\n",
    "plt.tight_layout()\n",
    "plt.show()"
   ]
  },
  {
   "cell_type": "markdown",
   "id": "b79e4c63-97ef-48e9-a1e2-17b2edf1b8a5",
   "metadata": {},
   "source": [
    "# 6. 模型评估"
   ]
  },
  {
   "cell_type": "code",
   "execution_count": 13,
   "id": "5f87bdc5-c5b1-4321-bfea-614da06b5974",
   "metadata": {},
   "outputs": [
    {
     "name": "stdout",
     "output_type": "stream",
     "text": [
      "\n",
      "马尔可夫性检验：\n",
      "如果满足马尔可夫性，P(X_t+1|X_t) 应该与 P(X_t+1|X_t,X_t-1) 相似\n",
      "\n",
      "从 (晴天,晴天) 出发:\n",
      "  二阶转移概率: [0.786 0.143 0.071]\n",
      "  一阶转移概率: [0.789 0.105 0.105]\n",
      "  平均差异: 0.025\n"
     ]
    }
   ],
   "source": [
    "def evaluate_markov_property(sequence):\n",
    "    \"\"\"检验序列的马尔可夫性\"\"\"\n",
    "    # 简单的卡方检验思路\n",
    "    n = len(sequence)\n",
    "    \n",
    "    # 统计一阶转移\n",
    "    first_order_counts = np.zeros((n_states, n_states))\n",
    "    for i in range(n - 1):\n",
    "        first_order_counts[sequence[i], sequence[i+1]] += 1\n",
    "    \n",
    "    # 统计二阶转移（考虑前两个状态）\n",
    "    second_order_counts = {}\n",
    "    for i in range(n - 2):\n",
    "        key = (sequence[i], sequence[i+1])\n",
    "        next_state = sequence[i+2]\n",
    "        if key not in second_order_counts:\n",
    "            second_order_counts[key] = np.zeros(n_states)\n",
    "        second_order_counts[key][next_state] += 1\n",
    "    \n",
    "    print(\"\\n马尔可夫性检验：\")\n",
    "    print(\"如果满足马尔可夫性，P(X_t+1|X_t) 应该与 P(X_t+1|X_t,X_t-1) 相似\")\n",
    "    \n",
    "    # 比较一阶和二阶转移概率\n",
    "    for (prev_prev, prev), counts in second_order_counts.items():\n",
    "        if counts.sum() > 5:  # 只考虑有足够观察的情况\n",
    "            second_order_prob = counts / counts.sum()\n",
    "            first_order_prob = estimated_matrix[prev]\n",
    "            diff = np.abs(second_order_prob - first_order_prob).mean()\n",
    "            print(f\"\\n从 ({weather_states[prev_prev]},{weather_states[prev]}) 出发:\")\n",
    "            print(f\"  二阶转移概率: {second_order_prob.round(3)}\")\n",
    "            print(f\"  一阶转移概率: {first_order_prob.round(3)}\")\n",
    "            print(f\"  平均差异: {diff:.3f}\")\n",
    "\n",
    "evaluate_markov_property(weather_sequence)"
   ]
  },
  {
   "cell_type": "code",
   "execution_count": 14,
   "id": "6a16f47f-d4f4-4a77-8e62-2dc36f654b70",
   "metadata": {},
   "outputs": [
    {
     "name": "stdout",
     "output_type": "stream",
     "text": [
      "\n",
      "\n",
      "使用更多数据验证模型：\n",
      "大样本估计的转移概率矩阵：\n",
      "       晴天     阴天     雨天\n",
      "晴天  0.701  0.175  0.123\n",
      "阴天  0.341  0.364  0.295\n",
      "雨天  0.174  0.308  0.518\n",
      "\n",
      "与真实矩阵的比较：\n",
      "平均绝对误差： 0.0204\n"
     ]
    }
   ],
   "source": [
    "# 7. 生成更多数据进行验证\n",
    "print(\"\\n\\n使用更多数据验证模型：\")\n",
    "validation_sequence = generate_weather_sequence(1000)\n",
    "validation_matrix, _ = estimate_transition_matrix(validation_sequence)\n",
    "\n",
    "print(\"大样本估计的转移概率矩阵：\")\n",
    "print(pd.DataFrame(validation_matrix, \n",
    "                  index=weather_states, \n",
    "                  columns=weather_states).round(3))\n",
    "\n",
    "print(\"\\n与真实矩阵的比较：\")\n",
    "print(\"平均绝对误差：\", np.abs(validation_matrix - true_transition_matrix).mean().round(4))\n",
    "\n",
    "# # 保存结果\n",
    "# results = {\n",
    "#     'historical_data': df,\n",
    "#     'transition_matrix': estimated_matrix,\n",
    "#     'forecast': forecast_df,\n",
    "#     'steady_state': steady_state\n",
    "# }\n",
    "\n",
    "# print(\"\\n分析完成！主要结果已保存在 results 字典中。\")"
   ]
  }
 ],
 "metadata": {
  "kernelspec": {
   "display_name": "Python 3 (ipykernel)",
   "language": "python",
   "name": "python3"
  },
  "language_info": {
   "codemirror_mode": {
    "name": "ipython",
    "version": 3
   },
   "file_extension": ".py",
   "mimetype": "text/x-python",
   "name": "python",
   "nbconvert_exporter": "python",
   "pygments_lexer": "ipython3",
   "version": "3.12.8"
  }
 },
 "nbformat": 4,
 "nbformat_minor": 5
}
