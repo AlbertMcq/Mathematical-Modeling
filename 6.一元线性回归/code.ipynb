{
 "cells": [
  {
   "cell_type": "markdown",
   "id": "983d3615",
   "metadata": {},
   "source": [
    "1.导入需要的库"
   ]
  },
  {
   "cell_type": "code",
   "execution_count": null,
   "id": "e56b5765",
   "metadata": {},
   "outputs": [],
   "source": [
    "#数据处理和科学计算库\n",
    "import numpy as np\n",
    "import pandas as pd\n",
    "\n",
    "#可视化库\n",
    "import matplotlib.pyplot as plt\n",
    "import seaborn as sns\n",
    "\n",
    "#机器学习库\n",
    "from sklearn.model_selection import train_test_split\n",
    "from sklearn.linear_model import LinearRegression\n",
    "from sklearn.metrics import mean_squared_error, r2_score, mean_absolute_error\n",
    "\n",
    "#统计分析库\n",
    "import statsmodels.api as sm\n",
    "from scipy import stats\n",
    "\n",
    "#设置可视化风格\n",
    "sns.set_style('whitegrid')\n",
    "plt.rcParams['font.sans-serif'] = ['SimHei'] #用来正常显示中文标签（字体：微软雅黑）\n",
    "plt.rcParams['axes.unicode_minus'] = False #用来正常显示负号"
   ]
  },
  {
   "cell_type": "markdown",
   "id": "c37bac01",
   "metadata": {},
   "source": [
    "2.数据生成与分析"
   ]
  },
  {
   "cell_type": "code",
   "execution_count": null,
   "id": "240cea84",
   "metadata": {},
   "outputs": [],
   "source": [
    "np.random.seed(42)\n",
    "\n",
    "#生成100个学生的学习时间（小时）\n",
    "study_hours = np.random.uniform(1, 10, 100).reshape(-1, 1)\n",
    "\n",
    "#生成对应的考试成绩（分数），假设基础分为30，每小时的学习可以增加7分，并加入一些随机噪声\n",
    "exam_scores = 30 + 7 * study_hours + np.random.normal(0, 5, 100).reshape(-1, 1)\n",
    "\n",
    "#将数据转换为Pandas DataFrame,方便后续处理\n",
    "data = pd.DataFrame({'Study_Hours': study_hours.flatten(), 'Exam_Scores': exam_scores.flatten()})"
   ]
  },
  {
   "cell_type": "code",
   "execution_count": null,
   "id": "64479ca1",
   "metadata": {},
   "outputs": [],
   "source": [
    "print(\"数据前5行：\")\n",
    "print(data.head())"
   ]
  },
  {
   "cell_type": "code",
   "execution_count": null,
   "id": "206be4fe",
   "metadata": {},
   "outputs": [],
   "source": [
    "print(\"数据的基本信息：\")\n",
    "print(data.describe())"
   ]
  },
  {
   "cell_type": "markdown",
   "id": "e6c2fef7",
   "metadata": {},
   "source": [
    "#缺失值检查 \n",
    "##均值填充\n",
    "##删除缺失值\n",
    "\n",
    "#异常值分析"
   ]
  },
  {
   "cell_type": "markdown",
   "id": "e9abfbe6",
   "metadata": {},
   "source": [
    "2.数据可视化：散点图"
   ]
  },
  {
   "cell_type": "code",
   "execution_count": null,
   "id": "19ef874a",
   "metadata": {},
   "outputs": [],
   "source": [
    "plt.figure(figsize = (10, 6)) #创建画布\n",
    "sns.scatterplot(x = 'Study_Hours', y = 'Exam_Scores',data = data, alpha = 0.7) #散点图绘制(alpha代表点的大小)\n",
    "plt.title('学习时间与考试成绩的关系', fontsize = 15)\n",
    "plt.xlabel('学习时间（小时）', fontsize = 12)\n",
    "plt.ylabel('考试成绩（分）', fontsize = 12)\n",
    "plt.show()\n"
   ]
  },
  {
   "cell_type": "code",
   "execution_count": null,
   "id": "4c410d7c",
   "metadata": {},
   "outputs": [],
   "source": [
    "#计算相关系数\n",
    "correlation = data['Study_Hours'].corr(data['Exam_Scores'])\n",
    "print(f\"学习时间与考试成绩的相关系数为：{correlation:.4f}\")"
   ]
  },
  {
   "cell_type": "markdown",
   "id": "665891ff",
   "metadata": {},
   "source": [
    "3.划分训练集和测试集"
   ]
  },
  {
   "cell_type": "code",
   "execution_count": null,
   "id": "6595573a",
   "metadata": {},
   "outputs": [],
   "source": [
    "#定义自变量X和因变量Y\n",
    "X = data[['Study_Hours']] #自变量必须是二维数组！\n",
    "Y = data['Exam_Scores']\n",
    "\n",
    "#按照80%和20%的比例划分训练集和测试集\n",
    "X_train, X_test, Y_train, Y_test = train_test_split(X, Y, test_size = 0.2, random_state = 42)\n",
    "print(f\"训练集大小：{X_train.shape[0]}\")\n",
    "print(f\"测试集大小：{X_test.shape[0]}\")"
   ]
  },
  {
   "cell_type": "markdown",
   "id": "702e7b1c",
   "metadata": {},
   "source": [
    "4.模型训练"
   ]
  },
  {
   "cell_type": "code",
   "execution_count": null,
   "id": "2d271abe",
   "metadata": {},
   "outputs": [],
   "source": [
    "#1.创建线性回归模型实例\n",
    "model = LinearRegression()\n",
    "\n",
    "#2.使用训练数据来训练模型\n",
    "model.fit(X_train, Y_train)\n",
    "\n",
    "#3.获取模型的参数\n",
    "intercept = model.intercept_ #截距（beta_0）\n",
    "slope = model.coef_[0] #斜率(beta_1)\n",
    "\n",
    "print(\"模型训练完成\")\n",
    "print(f\"截距(beta_0)：{intercept:.4f}\")\n",
    "print(f\"斜率(beta_1)：{slope:.4f}\")\n",
    "\n",
    "print('回归方程为：')\n",
    "print(f'Exam_Scores = {intercept:.2f} + {slope:.2f} * Study_Hours')\n",
    "\n"
   ]
  },
  {
   "cell_type": "markdown",
   "id": "9f3c0558",
   "metadata": {},
   "source": [
    "5.模型预测与评估"
   ]
  },
  {
   "cell_type": "code",
   "execution_count": null,
   "id": "496960a5",
   "metadata": {},
   "outputs": [],
   "source": [
    "#在测试集上进行预测\n",
    "Y_pred = model.predict(X_test)\n",
    "\n",
    "#将预测结果和实际结果放在一个DataFrame里方便比较\n",
    "predictions_df = pd.DataFrame({'Actual': Y_test, 'Predicted': y_pred})\n",
    "print(\"测试集上的实际结果vs预测结果\")\n",
    "print(predictions_df.head())"
   ]
  },
  {
   "cell_type": "markdown",
   "id": "53f1db28",
   "metadata": {},
   "source": [
    "5.1计算评估指标"
   ]
  },
  {
   "cell_type": "code",
   "execution_count": null,
   "id": "12fa43fe",
   "metadata": {},
   "outputs": [],
   "source": [
    "#计算R²(决定系数)\n",
    "r2 = r2_score(Y_test, Y_pred)\n",
    "#计算MSE(均方误差)\n",
    "mse = mean_squared_error(Y_test, Y_pred)\n",
    "#计算RMSE（均方根误差）\n",
    "rmse = np.sqrt(mse)\n",
    "#计算MAE（平均绝对误差）\n",
    "mae = mean_absolute_error(Y_test, Y_pred)\n",
    "\n",
    "print(\"--- 模型在测试集上计算出的评估指标 ---\")\n",
    "print(f'R-squared (R²):{r2:.4f}')\n",
    "print(f'Mean Squared Error (MSE):{mse:.4f}')\n",
    "print(f'Root Mean Squared Error (RMSE):{rmse:.4f}')\n",
    "print(f'Mean Absolute Error (MAE):{mae:.4f}')\n"
   ]
  },
  {
   "cell_type": "markdown",
   "id": "1af04b0f",
   "metadata": {},
   "source": [
    "6.结果可视化"
   ]
  },
  {
   "cell_type": "code",
   "execution_count": null,
   "id": "4b777a21",
   "metadata": {},
   "outputs": [],
   "source": [
    "plt.figure(figsize = (10, 6))\n",
    "\n",
    "#绘制数据散点图（测试集）\n",
    "plt.scatter(X_test, Y_test, color = 'blue', label = '实际成绩', alpha = 0.7)\n",
    "\n",
    "#绘制回归线\n",
    "plt.plot(X_test, Y_pred, color = 'red', linewidth = 2, label = '回归线')\n",
    "\n",
    "plt.title('线性回归拟合结果（测试集）', fontsize = 15)\n",
    "plt.xlabel('学习时间（小时）', fontsize = 12)\n",
    "plt.ylabel('考试成绩（分）', fontsize = 12)\n",
    "plt.legend()\n",
    "plt.show()"
   ]
  },
  {
   "cell_type": "markdown",
   "id": "dbf1d9b3",
   "metadata": {},
   "source": [
    "6.1残差图分析"
   ]
  },
  {
   "cell_type": "code",
   "execution_count": null,
   "id": "e43e5463",
   "metadata": {},
   "outputs": [],
   "source": [
    "#计算残差\n",
    "residuals = Y_test - Y_pred\n",
    "\n",
    "plt.figure(figsize = (10, 6))\n",
    "sns.scatterplot(x = Y_pred, y = residuals, alpha = 0.7)\n",
    "plt.axhline(y = 0, color = 'red', linestyle = '--')\n",
    "plt.title('残差图', fontsize = 15)\n",
    "plt.xlabel('预测值', fontsize = 12)\n",
    "plt.ylabel('残差', fontsize = 12)\n",
    "plt.show()"
   ]
  },
  {
   "cell_type": "markdown",
   "id": "32dc5929",
   "metadata": {},
   "source": [
    "7.使用模型进行新预测"
   ]
  },
  {
   "cell_type": "code",
   "execution_count": null,
   "id": "3c023c62",
   "metadata": {},
   "outputs": [],
   "source": [
    "#假设一个新学生学习了6.5个小时，用模型来预测他的成绩\n",
    "new_study_hours = np.array([[6.5]])\n",
    "\n",
    "#使用模型进行预测\n",
    "predicted_score = model.predict(new_study_hours)\n",
    "\n",
    "print(f'预测：学习6.5小时的学生的考试成绩约为{predicted_score[0]:.2f}分') "
   ]
  },
  {
   "cell_type": "markdown",
   "id": "664f5b34",
   "metadata": {},
   "source": [
    "8.封装好的函数，以后可以直接调用"
   ]
  },
  {
   "cell_type": "code",
   "execution_count": null,
   "id": "aa3aca8c",
   "metadata": {},
   "outputs": [],
   "source": [
    "def run_linear_regression_analysis(data, feature_col, target_col):\n",
    "    \"\"\"\n",
    "    执行一元线性回归分析的完整流程模板。\n",
    "    \n",
    "    参数:\n",
    "    data (pd.DataFrame): 包含数据的DataFrame。\n",
    "    feature_col (str): 自变量列名。\n",
    "    target_col (str): 因变量列名。\n",
    "    \n",
    "    返回:\n",
    "    dict: 包含模型、评估指标和预测结果的字典。\n",
    "    \"\"\"\n",
    "    # 1. 数据准备和划分\n",
    "    X = data[[feature_col]]\n",
    "    y = data[target_col]\n",
    "    X_train, X_test, y_train, y_test = train_test_split(X, y, test_size=0.2, random_state=42)\n",
    "    \n",
    "    # 2. 模型训练\n",
    "    model = LinearRegression()\n",
    "    model.fit(X_train, y_train)\n",
    "    \n",
    "    # 3. 预测与评估\n",
    "    y_pred = model.predict(X_test)\n",
    "    r2 = r2_score(y_test, y_pred)\n",
    "    rmse = np.sqrt(mean_squared_error(y_test, y_pred))\n",
    "    \n",
    "    # 4. 打印结果\n",
    "    print(f'--- 分析报告: {feature_col} vs {target_col} ---')\n",
    "    print(f'回归方程: {target_col} = {model.intercept_:.2f} + {model.coef_[0]:.2f} * {feature_col}')\n",
    "    print(f'R-squared (R²): {r2:.4f}')\n",
    "    print(f'Root Mean Squared Error (RMSE): {rmse:.4f}')\n",
    "    \n",
    "    # 5. 可视化\n",
    "    plt.figure(figsize=(10, 6))\n",
    "    plt.scatter(X_test, y_test, color='blue', label='实际值')\n",
    "    plt.plot(X_test, y_pred, color='red', linewidth=2, label='预测回归线')\n",
    "    plt.title(f'{feature_col} 与 {target_col} 的回归分析')\n",
    "    plt.xlabel(feature_col)\n",
    "    plt.ylabel(target_col)\n",
    "    plt.legend()\n",
    "    plt.show()\n",
    "    \n",
    "    return {\n",
    "        'model': model,\n",
    "        'r2': r2,\n",
    "        'rmse': rmse,\n",
    "        'predictions_df': pd.DataFrame({'Actual': y_test, 'Predicted': y_pred})\n",
    "    }\n",
    "\n",
    "# 使用模板函数\n",
    "results = run_linear_regression_analysis(data, 'Study_Hours', 'Exam_Scores')"
   ]
  }
 ],
 "metadata": {
  "kernelspec": {
   "display_name": "math",
   "language": "python",
   "name": "python3"
  },
  "language_info": {
   "codemirror_mode": {
    "name": "ipython",
    "version": 3
   },
   "file_extension": ".py",
   "mimetype": "text/x-python",
   "name": "python",
   "nbconvert_exporter": "python",
   "pygments_lexer": "ipython3",
   "version": "3.12.11"
  }
 },
 "nbformat": 4,
 "nbformat_minor": 5
}
