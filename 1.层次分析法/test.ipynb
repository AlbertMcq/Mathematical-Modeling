{
 "cells": [
  {
   "cell_type": "markdown",
   "id": "ae47dbb4",
   "metadata": {},
   "source": [
    "1.判断矩阵一致性"
   ]
  },
  {
   "cell_type": "code",
   "execution_count": 3,
   "id": "62154966",
   "metadata": {},
   "outputs": [
    {
     "name": "stdout",
     "output_type": "stream",
     "text": [
      "一致性指标CI=(0.004840319544088996+0j)\n",
      "一致性比例CR=(0.005438561285493255+0j)\n",
      "该判断矩阵的一致性可以接受！\n"
     ]
    }
   ],
   "source": [
    "import numpy as np\n",
    "\n",
    "A = np.array([[1, 5, 3, 2], \n",
    "              [1/5, 1, 1/2, 1/3], \n",
    "              [1/3, 2, 1, 1/2],\n",
    "              [1/2, 3, 2, 1]])\n",
    "\n",
    "eig_val, eig_vec = np.linalg.eig(A) #eig_val为特征值，eig_vec为特征向量\n",
    "Max_eig = max(eig_val)\n",
    "\n",
    "n, _ = A.shape\n",
    "\n",
    "CI = (Max_eig - n) / (n - 1)\n",
    "RI = [0, 0.0001, 0.52, 0.89, 1.12, 1.26, 1.36, 1.41, 1.46, 1.49, 1.52, 1.54, 1.56, 1.58, 1.59]  \n",
    "# 这里的RI最多支持 n = 15\n",
    "\n",
    "CR = CI / RI[n - 1]\n",
    "\n",
    "print(f\"一致性指标CI={CI}\")\n",
    "print(f\"一致性比例CR={CR}\")\n",
    "\n",
    "if CR < 0.1:\n",
    "    print(\"该判断矩阵的一致性可以接受！\")\n",
    "else:\n",
    "    print(\"该判断矩阵的一致性不可接受，需要修改判断矩阵！\")\n"
   ]
  },
  {
   "cell_type": "markdown",
   "id": "aff1b803",
   "metadata": {},
   "source": [
    "2.求出权重"
   ]
  },
  {
   "cell_type": "code",
   "execution_count": 4,
   "id": "d9abb5d8",
   "metadata": {},
   "outputs": [
    {
     "name": "stdout",
     "output_type": "stream",
     "text": [
      "权重：[0.48288562+0.j 0.08815006+0.j 0.15698986+0.j 0.27197446+0.j]\n"
     ]
    }
   ],
   "source": [
    "import numpy as np\n",
    "\n",
    "A = np.array([[1, 5, 3, 2], \n",
    "              [1/5, 1, 1/2, 1/3], \n",
    "              [1/3, 2, 1, 1/2],\n",
    "              [1/2, 3, 2, 1]])\n",
    "\n",
    "n, _ = A.shape\n",
    "\n",
    "eig_val, eig_vec = np.linalg.eig(A) #eig_val为特征值，eig_vec为特征向量\n",
    "max_index = np.argmax(eig_val)\n",
    "\n",
    "max_vector = eig_vec[:, max_index]\n",
    "\n",
    "weights = max_vector / np.sum(max_vector)\n",
    "\n",
    "print(f\"权重：{weights}\")\n",
    "\n"
   ]
  }
 ],
 "metadata": {
  "kernelspec": {
   "display_name": "math",
   "language": "python",
   "name": "python3"
  },
  "language_info": {
   "codemirror_mode": {
    "name": "ipython",
    "version": 3
   },
   "file_extension": ".py",
   "mimetype": "text/x-python",
   "name": "python",
   "nbconvert_exporter": "python",
   "pygments_lexer": "ipython3",
   "version": "3.12.11"
  }
 },
 "nbformat": 4,
 "nbformat_minor": 5
}
